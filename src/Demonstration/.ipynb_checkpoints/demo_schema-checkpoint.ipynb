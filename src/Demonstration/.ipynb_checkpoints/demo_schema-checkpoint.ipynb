{
 "cells": [
  {
   "cell_type": "markdown",
   "id": "4099ca8f",
   "metadata": {},
   "source": [
    "# Demonstration Notebook for SCHEMA Dissertation\n",
    "The purpose of this notebook is to demonstrate the various matching techniques developed and compared for mapping JSON schemas to improve data interoperability.\n",
    "\n",
    "The sections continue as follows:\n",
    "1. Overview of Schemas Analysed\n",
    "2. Generalised Schema Approach\n",
    "3. Matching Techniques\n",
    "3.1. String Matching\n",
    "3.2. Semantic Matching\n",
    "3.3. Approaching Schemas as Graphs\n",
    "4. Evaluation of Matching Techniques\n",
    "5. Mapping\n",
    "6. Challenges\n",
    "7. Summary"
   ]
  },
  {
   "cell_type": "markdown",
   "id": "0c380af7",
   "metadata": {},
   "source": [
    "## 1. Overview of Schemas Analysed\n",
    "Facebook and Twitter archive data is the primary source of data for this research. Upon downloading and analysing the datasets, classes are developed manually to feed the data into the pipeline.\n",
    "\n",
    "Classes will need to be developed as more data sources are added to the project. \n",
    "\n",
    "Below is the functionality that involves:\n",
    "1. Reading in the data from the archive.\n",
    "2. Transforming the JSON into the class based schemas.\n",
    "\n",
    "###### Facebook"
   ]
  },
  {
   "cell_type": "code",
   "execution_count": 1,
   "id": "6f7d764c",
   "metadata": {},
   "outputs": [],
   "source": [
    "import json\n",
    "from facebook_post import Post, Data, Place, Coordinates, Attachments, ExternalContext"
   ]
  },
  {
   "cell_type": "code",
   "execution_count": 2,
   "id": "990bfe7a",
   "metadata": {},
   "outputs": [
    {
     "data": {
      "text/plain": [
       "Profile(profile_id=None, name=Name(full_name=None, first_name=None, middle_name=None, last_name=None), date_of_birth=Date(year=None, month=None, day=None), current_city=Location(current_city=None), relationship_status=RelationshipStatus(anniversary=Date(year=None, month=None, day=None), status=None, partner=None), education_experiences=[], work_experiences=[], gender=None, phone_number=None, registration_timestamp=None, intro_bio=None, website=None, friends=Friends(friends=[]), likes=Likes(activities=[], music=[], movies=[], television=[], other=[], favourite_athletes=[], games=[], clothing=[]), emails=[])"
      ]
     },
     "execution_count": 2,
     "metadata": {},
     "output_type": "execute_result"
    }
   ],
   "source": [
    "from facebook_profile import Profile, Friends, Likes, Groups, Name, Location, RelationshipStatus, Date, Education, Work\n",
    "\n",
    "\n",
    "empty_facebook_profile = Profile()\n",
    "empty_facebook_profile"
   ]
  },
  {
   "cell_type": "code",
   "execution_count": null,
   "id": "9d3a3e96",
   "metadata": {},
   "outputs": [],
   "source": []
  },
  {
   "cell_type": "code",
   "execution_count": 3,
   "id": "4c245a90",
   "metadata": {},
   "outputs": [],
   "source": [
    "fpath = '/Users/clairefarrell/College/TCD/DISS/facebook-Clairefarrell13/posts/your_posts_1.json'\n",
    "with open(fpath, 'r') as f:\n",
    "    json_str = json.loads(f.read())\n",
    "\n",
    "postObjectList = []\n",
    "for obj in json_str:\n",
    "    postObjectList.append(Post(**obj))"
   ]
  },
  {
   "cell_type": "code",
   "execution_count": 4,
   "id": "bd45ef21",
   "metadata": {},
   "outputs": [
    {
     "data": {
      "text/plain": [
       "Post(title=None, timestamp=1603805068, data=[{'update_timestamp': 1603805068}], attachments=[], tags=[])"
      ]
     },
     "execution_count": 4,
     "metadata": {},
     "output_type": "execute_result"
    }
   ],
   "source": [
    "postObjectList[0]"
   ]
  },
  {
   "cell_type": "code",
   "execution_count": 5,
   "id": "369e1663",
   "metadata": {},
   "outputs": [],
   "source": [
    "ffpath = '/Users/clairefarrell/College/TCD/DISS/facebook-Clairefarrell13/friends/friends.json'\n",
    "with open(ffpath, 'r') as f:\n",
    "    json_str = json.loads(f.read())\n",
    "\n",
    "friendsObjectList = []\n",
    "for obj in json_str['friends']:\n",
    "    friendsObjectList.append(obj['name'])\n",
    "friends = Friends(friendsObjectList)"
   ]
  },
  {
   "cell_type": "code",
   "execution_count": 6,
   "id": "04522e02",
   "metadata": {},
   "outputs": [
    {
     "data": {
      "text/plain": [
       "Likes(activities=['Christmas'], music=['Z00L', 'Today FM', 'RTÃ\\x89 Gold', 'AminÃ©', 'RTÃ\\x89 2fm', 'Daragh McSloy', 'Melanie Martinez', 'Ruby Rose', 'DIE ANTWOORD', 'Us The Duo', 'Superhumanoids', 'Hozier', 'HAIM', 'Jack Ryan', 'Slane Concert', 'Delorentos', 'Ivy Joe', 'Bruno Mars', 'The Embers', 'The Wanted', 'David Guetta', 'Ed Sheeran', 'Drake', 'Olly Murs', 'Far East Movement', 'Ed Sheeran', 'Conor Maynard', 'Rihanna', 'Fret 13', 'LMFAO', 'Pitbull', 'Cutting Edge', 'JA The DragAn', 'Dj Phonetique', 'Oh No Not Stereo', 'Lady Gaga', 'Eminem', 'Katy Perry', 'Justin Tyler', 'Justin Bieber', 'Justin bieber to Ireland', 'Michael Jackson', 'Fox Avenue', 'The Script'], movies=['Mattress Men - The Movie', 'Taken 3 Ireland', 'Mean Girls Memes', 'Dory', 'The Hunger Games', 'The Inbetweeners Movie', 'Mean Girls'], television=['RTÃ\\x892', 'Love/Hate Series 5', 'Game Of Thrones UK', 'Game of Thrones Memes', \"Mrs Brown's Boys\", 'Two Tube', \"Grey's Anatomy\", 'Mrs Browns Boys Memes', 'The Fresh Prince of Bel-Air', 'Fresh Prince Of Bel-Air', 'Josh & Steve', 'The Walking Dead', 'Mrs Brown', 'Father Ted', 'Take Me Out', \"Mrs. Brown's Boys\", 'Make It or Break It', 'Glee', 'The Inbetweeners'], other=['GoMoIreland', 'Pop Up Gaeltacht La Jolla agus Contae San Diego', 'TES - Trinity Entrepreneurial', 'The Phil', 'Just Eat Ireland', 'Gilbert & Wright Malahide', 'Wishbone', 'Rubys Pizza & Grill Pavilions Swords', 'DataSoc', 'Imagine', 'QuickMaths', 'My DIY', 'The Irish Road Trip', 'CaseIT', 'Manhattan Popcorn', 'Bike Row Ski', 'Beacon Audiology', 'Mc Kinney Motors', 'GrÃ¡ Produce', 'TUDSU News', 'Sano Pizza', 'The Daily Ireland', 'TheLiberal.ie', \"Gino's Gelato\", 'Harvey Norman Ireland'], favourite_athletes=['Vanya Afonichev', 'Tom Daley'], games=['KODE 4 ALL'], clothing=['My Cotton Drawer', 'Happy Socks', 'Penneys'])"
      ]
     },
     "execution_count": 6,
     "metadata": {},
     "output_type": "execute_result"
    }
   ],
   "source": [
    "ffpath = '/Users/clairefarrell/College/TCD/DISS/facebook-Clairefarrell13/profile_information/profile_information.json'\n",
    "with open(ffpath, 'r') as f:\n",
    "    json_str = json.loads(f.read())\n",
    "\n",
    "for obj in json_str['profile']['pages']:\n",
    "    for k,v in obj.items():\n",
    "        if v == \"Activities\":\n",
    "            activitiesList = obj['pages']\n",
    "\n",
    "for obj in json_str['profile']['pages']:\n",
    "    for k,v in obj.items():\n",
    "        if v == \"Music\":\n",
    "            musicList = obj['pages']\n",
    "            \n",
    "for obj in json_str['profile']['pages']:\n",
    "    for k,v in obj.items():\n",
    "        if v == \"Movies\":\n",
    "            moviesList = obj['pages']\n",
    "\n",
    "for obj in json_str['profile']['pages']:\n",
    "    for k,v in obj.items():\n",
    "        if v == \"Television\":\n",
    "            televisionList = obj['pages']\n",
    "\n",
    "for obj in json_str['profile']['pages']:\n",
    "    for k,v in obj.items():\n",
    "        if v == \"Other\":\n",
    "            otherList = obj['pages']\n",
    "\n",
    "for obj in json_str['profile']['pages']:\n",
    "    for k,v in obj.items():\n",
    "        if v == \"Favorite Athletes\":\n",
    "            favoriteAtheletesList = obj['pages']\n",
    "\n",
    "for obj in json_str['profile']['pages']:\n",
    "    for k,v in obj.items():\n",
    "        if v == \"Games\":\n",
    "            gamesList = obj['pages']\n",
    "\n",
    "for obj in json_str['profile']['pages']:\n",
    "    for k,v in obj.items():\n",
    "        if v == \"Clothing\":\n",
    "            clothesList = obj['pages']\n",
    "\n",
    "likes = Likes(activitiesList, musicList, moviesList, televisionList, otherList, favoriteAtheletesList, gamesList, clothesList)\n",
    "likes"
   ]
  },
  {
   "cell_type": "code",
   "execution_count": 7,
   "id": "dd195aac",
   "metadata": {},
   "outputs": [
    {
     "data": {
      "text/plain": [
       "Groups(groups=['Wild Camping Ireland', 'The Thought Leadership Accelerator Community', 'Dogspotting'])"
      ]
     },
     "execution_count": 7,
     "metadata": {},
     "output_type": "execute_result"
    }
   ],
   "source": [
    "groupsList = []\n",
    "for obj in json_str['profile']['groups']:\n",
    "    groupsList.append(obj['name'])\n",
    "groups = Groups(groupsList)\n",
    "groups"
   ]
  },
  {
   "cell_type": "code",
   "execution_count": 8,
   "id": "578ca646",
   "metadata": {},
   "outputs": [
    {
     "data": {
      "text/plain": [
       "Name(full_name='Claire Farrell', first_name='Claire', middle_name='', last_name='Farrell')"
      ]
     },
     "execution_count": 8,
     "metadata": {},
     "output_type": "execute_result"
    }
   ],
   "source": [
    "full_name = json_str['profile']['name']['full_name']\n",
    "first_name = json_str['profile']['name']['first_name']\n",
    "middle_name = json_str['profile']['name']['middle_name']\n",
    "last_name = json_str['profile']['name']['last_name']\n",
    "name = Name(full_name, first_name, middle_name, last_name)\n",
    "name"
   ]
  },
  {
   "cell_type": "code",
   "execution_count": 9,
   "id": "0de8afd8",
   "metadata": {},
   "outputs": [
    {
     "data": {
      "text/plain": [
       "Location(current_city='Dublin, Ireland')"
      ]
     },
     "execution_count": 9,
     "metadata": {},
     "output_type": "execute_result"
    }
   ],
   "source": [
    "current_city = json_str['profile']['current_city']['name']\n",
    "current_city = Location(current_city)\n",
    "current_city"
   ]
  },
  {
   "cell_type": "code",
   "execution_count": 10,
   "id": "c888db24",
   "metadata": {},
   "outputs": [
    {
     "data": {
      "text/plain": [
       "RelationshipStatus(anniversary=Date(year=2016, month=12, day=16), status='In a relationship', partner='A D')"
      ]
     },
     "execution_count": 10,
     "metadata": {},
     "output_type": "execute_result"
    }
   ],
   "source": [
    "relationship = json_str['profile']['relationship']\n",
    "anniversary = Date(year = relationship['anniversary']['year'], month=relationship['anniversary']['month'], day=relationship['anniversary']['day'])\n",
    "status = relationship['status']\n",
    "partner = relationship['partner']\n",
    "relationship_status = RelationshipStatus(anniversary, status, partner)\n",
    "relationship_status"
   ]
  },
  {
   "cell_type": "code",
   "execution_count": 11,
   "id": "8cc0a9fc",
   "metadata": {},
   "outputs": [
    {
     "data": {
      "text/plain": [
       "[Education(name='Technological University Dublin', graduated=False, school_type='University', start_timestamp=1472713200, timestamp=1471872580, concentrations=['Business Analytics']),\n",
       " Education(name='Scoil Iosa', graduated=True, school_type='High School', start_timestamp=1316812400, timestamp=1316812400, concentrations=[])]"
      ]
     },
     "execution_count": 11,
     "metadata": {},
     "output_type": "execute_result"
    }
   ],
   "source": [
    "education = json_str['profile']['education_experiences']\n",
    "educationList = []\n",
    "for e_obj in education:\n",
    "    e_name = e_obj['name']\n",
    "    graduated = e_obj['graduated']\n",
    "    school_type = e_obj['school_type']\n",
    "    start_timestamp = e_obj['start_timestamp']\n",
    "    timestamp = e_obj['timestamp']\n",
    "    concentrations = e_obj['concentrations']\n",
    "    educationList.append(Education(e_name, graduated, school_type, start_timestamp, timestamp, concentrations))\n",
    "    \n",
    "educationList"
   ]
  },
  {
   "cell_type": "code",
   "execution_count": 12,
   "id": "29609d3b",
   "metadata": {},
   "outputs": [
    {
     "data": {
      "text/plain": [
       "[]"
      ]
     },
     "execution_count": 12,
     "metadata": {},
     "output_type": "execute_result"
    }
   ],
   "source": [
    "work = json_str['profile']['work_experiences']\n",
    "workList = []\n",
    "for e_obj in work:\n",
    "    name = e_obj['name']\n",
    "    title = e_obj['graduated']\n",
    "    start_timestamp = e_obj['start_timestamp']\n",
    "    end_timestamp = e_obj['end_timestamp']\n",
    "    workList.append(Work(name, title, start_timestamp, end_timestamp))\n",
    "    \n",
    "workList"
   ]
  },
  {
   "cell_type": "code",
   "execution_count": 13,
   "id": "fd8739e6",
   "metadata": {},
   "outputs": [
    {
     "data": {
      "text/plain": [
       "Profile(profile_id=Name(full_name='Claire Farrell', first_name='Claire', middle_name='', last_name='Farrell'), name=Date(year=1998, month=6, day=13), date_of_birth=Location(current_city='Dublin, Ireland'), current_city=RelationshipStatus(anniversary=Date(year=2016, month=12, day=16), status='In a relationship', partner='A D'), relationship_status=[Education(name='Technological University Dublin', graduated=False, school_type='University', start_timestamp=1472713200, timestamp=1471872580, concentrations=['Business Analytics']), Education(name='Scoil Iosa', graduated=True, school_type='High School', start_timestamp=1316812400, timestamp=1316812400, concentrations=[])], education_experiences=[], work_experiences='FEMALE', gender='+35387111111', phone_number=Friends(friends=['Jane Smith', 'John Smith', 'Joe Blogs']), registration_timestamp=Likes(activities=['Christmas'], music=['Z00L', 'Today FM', 'RTÃ\\x89 Gold', 'AminÃ©', 'RTÃ\\x89 2fm', 'Daragh McSloy', 'Melanie Martinez', 'Ruby Rose', 'DIE ANTWOORD', 'Us The Duo', 'Superhumanoids', 'Hozier', 'HAIM', 'Jack Ryan', 'Slane Concert', 'Delorentos', 'Ivy Joe', 'Bruno Mars', 'The Embers', 'The Wanted', 'David Guetta', 'Ed Sheeran', 'Drake', 'Olly Murs', 'Far East Movement', 'Ed Sheeran', 'Conor Maynard', 'Rihanna', 'Fret 13', 'LMFAO', 'Pitbull', 'Cutting Edge', 'JA The DragAn', 'Dj Phonetique', 'Oh No Not Stereo', 'Lady Gaga', 'Eminem', 'Katy Perry', 'Justin Tyler', 'Justin Bieber', 'Justin bieber to Ireland', 'Michael Jackson', 'Fox Avenue', 'The Script'], movies=['Mattress Men - The Movie', 'Taken 3 Ireland', 'Mean Girls Memes', 'Dory', 'The Hunger Games', 'The Inbetweeners Movie', 'Mean Girls'], television=['RTÃ\\x892', 'Love/Hate Series 5', 'Game Of Thrones UK', 'Game of Thrones Memes', \"Mrs Brown's Boys\", 'Two Tube', \"Grey's Anatomy\", 'Mrs Browns Boys Memes', 'The Fresh Prince of Bel-Air', 'Fresh Prince Of Bel-Air', 'Josh & Steve', 'The Walking Dead', 'Mrs Brown', 'Father Ted', 'Take Me Out', \"Mrs. Brown's Boys\", 'Make It or Break It', 'Glee', 'The Inbetweeners'], other=['GoMoIreland', 'Pop Up Gaeltacht La Jolla agus Contae San Diego', 'TES - Trinity Entrepreneurial', 'The Phil', 'Just Eat Ireland', 'Gilbert & Wright Malahide', 'Wishbone', 'Rubys Pizza & Grill Pavilions Swords', 'DataSoc', 'Imagine', 'QuickMaths', 'My DIY', 'The Irish Road Trip', 'CaseIT', 'Manhattan Popcorn', 'Bike Row Ski', 'Beacon Audiology', 'Mc Kinney Motors', 'GrÃ¡ Produce', 'TUDSU News', 'Sano Pizza', 'The Daily Ireland', 'TheLiberal.ie', \"Gino's Gelato\", 'Harvey Norman Ireland'], favourite_athletes=['Vanya Afonichev', 'Tom Daley'], games=['KODE 4 ALL'], clothing=['My Cotton Drawer', 'Happy Socks', 'Penneys']), intro_bio=['cfarrellc@gmail.com'], website=None, friends=Friends(friends=[]), likes=Likes(activities=[], music=[], movies=[], television=[], other=[], favourite_athletes=[], games=[], clothing=[]), emails=[])"
      ]
     },
     "execution_count": 13,
     "metadata": {},
     "output_type": "execute_result"
    }
   ],
   "source": [
    "dob = json_str['profile']['birthday']\n",
    "date_of_birth = Date(year = dob['year'], month=dob['month'], day=dob['day'])\n",
    "gender = json_str['profile']['gender']['gender_option']\n",
    "phone_number = json_str['profile']['phone_numbers'][0]['phone_number']\n",
    "emails= json_str['profile']['emails']['emails']\n",
    "    \n",
    "profile = Profile(name, date_of_birth, current_city, relationship_status,\n",
    "                 educationList, workList, gender, phone_number,\n",
    "                 friends, likes, emails)\n",
    "profile"
   ]
  },
  {
   "cell_type": "code",
   "execution_count": 14,
   "id": "32091cbb",
   "metadata": {},
   "outputs": [
    {
     "data": {
      "text/plain": [
       "Post(title=None, timestamp=None, data=Data(post=None, title=None, update_timestamp=None, timestamp=None, place=Place(name=None, address=None, url=None, coordinates=Coordinates(latitude=None, longitude=None)), external_context=ExternalContext(url=None), media=Media(uri=None, title=None, description=None, creation_timestamp=None, media_metadata=MediaMetadata(photo_metadata=None))), attachments=Attachments(data=[]), tags=[])"
      ]
     },
     "execution_count": 14,
     "metadata": {},
     "output_type": "execute_result"
    }
   ],
   "source": [
    "empty_facebook_post = Post()\n",
    "empty_facebook_post"
   ]
  },
  {
   "cell_type": "markdown",
   "id": "95d17ca9",
   "metadata": {},
   "source": [
    "###### Twitter"
   ]
  },
  {
   "cell_type": "code",
   "execution_count": 15,
   "id": "42b455f0",
   "metadata": {},
   "outputs": [
    {
     "data": {
      "text/plain": [
       "[{'tweet': {'retweeted': False,\n",
       "   'source': '<a href=\"https://mobile.twitter.com\" rel=\"nofollow\">Twitter Web App</a>',\n",
       "   'entities': {'hashtags': [],\n",
       "    'symbols': [],\n",
       "    'user_mentions': [{'name': 'James',\n",
       "      'screen_name': 'Pojken2014',\n",
       "      'indices': ['0', '11'],\n",
       "      'id_str': '2786152654',\n",
       "      'id': '2786152654'},\n",
       "     {'name': 'Data Protection Commission Ireland',\n",
       "      'screen_name': 'DPCIreland',\n",
       "      'indices': ['12', '23'],\n",
       "      'id_str': '786180288900542464',\n",
       "      'id': '786180288900542464'}],\n",
       "    'urls': [{'url': 'https://t.co/RkiqDmOAR5',\n",
       "      'expanded_url': 'https://forms.dataprotection.ie/contact',\n",
       "      'display_url': 'forms.dataprotection.ie/contact',\n",
       "      'indices': ['71', '94']}]},\n",
       "   'display_text_range': ['0', '94'],\n",
       "   'favorite_count': '0',\n",
       "   'in_reply_to_status_id_str': '1301136726837125121',\n",
       "   'id_str': '1301139972175654914',\n",
       "   'in_reply_to_user_id': '2786152654',\n",
       "   'truncated': False,\n",
       "   'retweet_count': '0',\n",
       "   'id': '1301139972175654914',\n",
       "   'in_reply_to_status_id': '1301136726837125121',\n",
       "   'possibly_sensitive': False,\n",
       "   'created_at': 'Wed Sep 02 12:48:38 +0000 2020',\n",
       "   'favorited': False,\n",
       "   'full_text': \"@Pojken2014 @DPCIreland Use the 'Raise a Concern' link on the homepage https://t.co/RkiqDmOAR5\",\n",
       "   'lang': 'en',\n",
       "   'in_reply_to_screen_name': 'Pojken2014',\n",
       "   'in_reply_to_user_id_str': '2786152654'}},\n",
       " {'tweet': {'retweeted': False,\n",
       "   'source': '<a href=\"http://twitter.com/#!/download/ipad\" rel=\"nofollow\">Twitter for iPad</a>',\n",
       "   'entities': {'hashtags': [],\n",
       "    'symbols': [],\n",
       "    'user_mentions': [{'name': '@rigo@mamot.fr',\n",
       "      'screen_name': 'rigow',\n",
       "      'indices': ['0', '6'],\n",
       "      'id_str': '15028284',\n",
       "      'id': '15028284'}],\n",
       "    'urls': []},\n",
       "   'display_text_range': ['0', '264'],\n",
       "   'favorite_count': '1',\n",
       "   'in_reply_to_status_id_str': '1300877264167600135',\n",
       "   'id_str': '1301032483740409856',\n",
       "   'in_reply_to_user_id': '15028284',\n",
       "   'truncated': False,\n",
       "   'retweet_count': '0',\n",
       "   'id': '1301032483740409856',\n",
       "   'in_reply_to_status_id': '1300877264167600135',\n",
       "   'created_at': 'Wed Sep 02 05:41:30 +0000 2020',\n",
       "   'favorited': False,\n",
       "   'full_text': '@rigow Ah, so that’s where the recent flip to legitimate interest comes from! What’s surprising is that some interfaces feature objecting to legitimate interest on a per party basis. Can’t see how this meets purpose limitation and legitimate interest test of gdpr.',\n",
       "   'lang': 'en',\n",
       "   'in_reply_to_screen_name': 'rigow',\n",
       "   'in_reply_to_user_id_str': '15028284'}},\n",
       " {'tweet': {'retweeted': False,\n",
       "   'source': '<a href=\"https://mobile.twitter.com\" rel=\"nofollow\">Twitter Web App</a>',\n",
       "   'entities': {'hashtags': [],\n",
       "    'symbols': [],\n",
       "    'user_mentions': [{'name': 'Future of Privacy Forum',\n",
       "      'screen_name': 'futureofprivacy',\n",
       "      'indices': ['0', '16'],\n",
       "      'id_str': '541136693',\n",
       "      'id': '541136693'},\n",
       "     {'name': 'Nataliia Bielova 🐝',\n",
       "      'screen_name': 'nataliabielova',\n",
       "      'indices': ['17', '32'],\n",
       "      'id_str': '972119197',\n",
       "      'id': '972119197'},\n",
       "     {'name': 'Cristiana Santos',\n",
       "      'screen_name': 'Cristianapt',\n",
       "      'indices': ['33', '45'],\n",
       "      'id_str': '2617742840',\n",
       "      'id': '2617742840'},\n",
       "     {'name': 'Célestin Matte',\n",
       "      'screen_name': 'CelestinMatte',\n",
       "      'indices': ['46', '60'],\n",
       "      'id_str': '49684692',\n",
       "      'id': '49684692'}],\n",
       "    'urls': [{'url': 'https://t.co/5u2YJh1IrH',\n",
       "      'expanded_url': 'https://arxiv.org/pdf/1911.09964.pdf',\n",
       "      'display_url': 'arxiv.org/pdf/1911.09964…',\n",
       "      'indices': ['151', '174']}]},\n",
       "   'display_text_range': ['0', '174'],\n",
       "   'favorite_count': '3',\n",
       "   'in_reply_to_status_id_str': '1300862101221715969',\n",
       "   'id_str': '1300867255287382020',\n",
       "   'in_reply_to_user_id': '541136693',\n",
       "   'truncated': False,\n",
       "   'retweet_count': '0',\n",
       "   'id': '1300867255287382020',\n",
       "   'in_reply_to_status_id': '1300862101221715969',\n",
       "   'possibly_sensitive': False,\n",
       "   'created_at': 'Tue Sep 01 18:44:57 +0000 2020',\n",
       "   'favorited': False,\n",
       "   'full_text': '@futureofprivacy @nataliabielova @Cristianapt @CelestinMatte Have you nominated your paper \"Do Cookie Banners Respect My Choice\"? (if not, please do!) https://t.co/5u2YJh1IrH',\n",
       "   'lang': 'en',\n",
       "   'in_reply_to_screen_name': 'futureofprivacy',\n",
       "   'in_reply_to_user_id_str': '541136693'}},\n",
       " {'tweet': {'retweeted': False,\n",
       "   'source': '<a href=\"https://mobile.twitter.com\" rel=\"nofollow\">Twitter Web App</a>',\n",
       "   'entities': {'hashtags': [],\n",
       "    'symbols': [],\n",
       "    'user_mentions': [{'name': 'Pieter Heyvaert',\n",
       "      'screen_name': 'HeyPieter',\n",
       "      'indices': ['0', '10'],\n",
       "      'id_str': '2873138257',\n",
       "      'id': '2873138257'},\n",
       "     {'name': 'Dries Marzougui',\n",
       "      'screen_name': 'DriesMarz',\n",
       "      'indices': ['11', '21'],\n",
       "      'id_str': '2160425649',\n",
       "      'id': '2160425649'},\n",
       "     {'name': 'Louis De Neve',\n",
       "      'screen_name': 'Louis_De_Neve',\n",
       "      'indices': ['22', '36'],\n",
       "      'id_str': '2212193342',\n",
       "      'id': '2212193342'},\n",
       "     {'name': 'Joachim Van Herwegen',\n",
       "      'screen_name': 'JoachimVHW',\n",
       "      'indices': ['37', '48'],\n",
       "      'id_str': '1396454942',\n",
       "      'id': '1396454942'},\n",
       "     {'name': 'IDLab',\n",
       "      'screen_name': 'IDLabResearch',\n",
       "      'indices': ['49', '63'],\n",
       "      'id_str': '4918412841',\n",
       "      'id': '4918412841'}],\n",
       "    'urls': []},\n",
       "   'display_text_range': ['0', '128'],\n",
       "   'favorite_count': '1',\n",
       "   'in_reply_to_status_id_str': '1300422163753766912',\n",
       "   'id_str': '1300513299679924224',\n",
       "   'in_reply_to_user_id': '2873138257',\n",
       "   'truncated': False,\n",
       "   'retweet_count': '0',\n",
       "   'id': '1300513299679924224',\n",
       "   'in_reply_to_status_id': '1300422163753766912',\n",
       "   'created_at': 'Mon Aug 31 19:18:27 +0000 2020',\n",
       "   'favorited': False,\n",
       "   'full_text': '@HeyPieter @DriesMarz @Louis_De_Neve @JoachimVHW @IDLabResearch This is really cool. Thanks for the intro and tutorials as well.',\n",
       "   'lang': 'en',\n",
       "   'in_reply_to_screen_name': 'HeyPieter',\n",
       "   'in_reply_to_user_id_str': '2873138257'}},\n",
       " {'tweet': {'retweeted': False,\n",
       "   'source': '<a href=\"https://mobile.twitter.com\" rel=\"nofollow\">Twitter Web App</a>',\n",
       "   'entities': {'hashtags': [],\n",
       "    'symbols': [],\n",
       "    'user_mentions': [{'name': 'Gianclaudio Malgieri',\n",
       "      'screen_name': 'JcMalgieri',\n",
       "      'indices': ['0', '11'],\n",
       "      'id_str': '2731204826',\n",
       "      'id': '2731204826'}],\n",
       "    'urls': []},\n",
       "   'display_text_range': ['0', '45'],\n",
       "   'favorite_count': '1',\n",
       "   'in_reply_to_status_id_str': '1300462718814691329',\n",
       "   'id_str': '1300493074691432450',\n",
       "   'in_reply_to_user_id': '2731204826',\n",
       "   'truncated': False,\n",
       "   'retweet_count': '0',\n",
       "   'id': '1300493074691432450',\n",
       "   'in_reply_to_status_id': '1300462718814691329',\n",
       "   'created_at': 'Mon Aug 31 17:58:05 +0000 2020',\n",
       "   'favorited': False,\n",
       "   'full_text': '@JcMalgieri Congratulations Gianclaudio! 🥳🥂🎖️',\n",
       "   'lang': 'en',\n",
       "   'in_reply_to_screen_name': 'JcMalgieri',\n",
       "   'in_reply_to_user_id_str': '2731204826'}}]"
      ]
     },
     "execution_count": 15,
     "metadata": {},
     "output_type": "execute_result"
    }
   ],
   "source": [
    "from tweet import Tweet, Entities, UserMentions, Urls, Main\n",
    "\n",
    "empty_tweet = Tweet()\n",
    "empty_main = Main(empty_tweet)\n",
    "empty_urls = Urls()\n",
    "empty_user_mentions = UserMentions()\n",
    "empty_entities = Entities()\n",
    "\n",
    "\n",
    "# empty_main, empty_urls, empty_user_mentions, empty_entities, empty_tweet\n",
    "tpath = '/Users/clairefarrell/College/TCD/DISS/Twitter/tweet.js'\n",
    "with open(tpath, 'r') as f:\n",
    "    tjson_str = json.loads(f.read())\n",
    "tweetObjectList = []\n",
    "for obj in tjson_str:\n",
    "    tweetObjectList.append(Main(**obj))\n",
    "tjson_str[:5]"
   ]
  },
  {
   "cell_type": "code",
   "execution_count": 16,
   "id": "363ac527",
   "metadata": {},
   "outputs": [
    {
     "data": {
      "text/plain": [
       "Main(tweet={'retweeted': False, 'source': '<a href=\"https://mobile.twitter.com\" rel=\"nofollow\">Twitter Web App</a>', 'entities': {'hashtags': [], 'symbols': [], 'user_mentions': [{'name': 'James', 'screen_name': 'Pojken2014', 'indices': ['0', '11'], 'id_str': '2786152654', 'id': '2786152654'}, {'name': 'Data Protection Commission Ireland', 'screen_name': 'DPCIreland', 'indices': ['12', '23'], 'id_str': '786180288900542464', 'id': '786180288900542464'}], 'urls': [{'url': 'https://t.co/RkiqDmOAR5', 'expanded_url': 'https://forms.dataprotection.ie/contact', 'display_url': 'forms.dataprotection.ie/contact', 'indices': ['71', '94']}]}, 'display_text_range': ['0', '94'], 'favorite_count': '0', 'in_reply_to_status_id_str': '1301136726837125121', 'id_str': '1301139972175654914', 'in_reply_to_user_id': '2786152654', 'truncated': False, 'retweet_count': '0', 'id': '1301139972175654914', 'in_reply_to_status_id': '1301136726837125121', 'possibly_sensitive': False, 'created_at': 'Wed Sep 02 12:48:38 +0000 2020', 'favorited': False, 'full_text': \"@Pojken2014 @DPCIreland Use the 'Raise a Concern' link on the homepage https://t.co/RkiqDmOAR5\", 'lang': 'en', 'in_reply_to_screen_name': 'Pojken2014', 'in_reply_to_user_id_str': '2786152654'})"
      ]
     },
     "execution_count": 16,
     "metadata": {},
     "output_type": "execute_result"
    }
   ],
   "source": [
    "tweetObjectList[0]"
   ]
  },
  {
   "cell_type": "code",
   "execution_count": 17,
   "id": "16c8d067",
   "metadata": {},
   "outputs": [],
   "source": [
    "from twitter_profile import Profile, Interests, Followers, Following"
   ]
  },
  {
   "cell_type": "code",
   "execution_count": 18,
   "id": "bc7decd6",
   "metadata": {},
   "outputs": [],
   "source": [
    "tpath = '/Users/clairefarrell/College/TCD/DISS/Twitter/follower.js'\n",
    "with open(tpath, 'r') as f:\n",
    "    tjson_str = f.read()\n",
    "tjson_str1 = tjson_str.replace(\"window.YTD.follower.part0 = \", \"\")\n",
    "json1 = json.loads(tjson_str1)"
   ]
  },
  {
   "cell_type": "code",
   "execution_count": 19,
   "id": "d9ae8d1b",
   "metadata": {},
   "outputs": [],
   "source": [
    "tpath1 = '/Users/clairefarrell/College/TCD/DISS/Twitter/following.js'\n",
    "with open(tpath1, 'r') as f:\n",
    "    tjson_str2 = f.read()\n",
    "tjson_str2 = tjson_str2.replace(\"window.YTD.following.part0 = \", \"\")\n",
    "json2 = json.loads(tjson_str2)"
   ]
  },
  {
   "cell_type": "code",
   "execution_count": 20,
   "id": "518d4744",
   "metadata": {},
   "outputs": [
    {
     "data": {
      "text/plain": [
       "Following(following=['1912395307', '1243239258007183360', '902732309442514946', '105197819', '848945026822414336', '446461168', '59413748', '897060827316072448', '596377986', '177993199', '741210871154806785', '1151627408971390976', '349135414', '1269670536', '44340473', '284664146', '2497300458', '3415806478', '1076578032', '1138988831984771072', '1263416381644705792', '1214188137859039232', '972119197', '718045611795345408', '19231330', '86336954', '1126466698050199552', '88509498', '3749206157', '1195013928209788928', '1138429952251125760', '20309837', '3834530009', '857176506648416256', '1245118064057819142', '2617742840', '1179045316617748480', '216644075', '2731204826', '52753292', '114441145', '8919762', '1021665947243958274', '15028284', '10834752', '1366981790', '16191556', '3094974153', '180493678', '1110916901310480390', '16328393', '2646334171', '372372472', '2279552412', '2647394298', '2219841242', '17241749', '2255375424', '17405912', '22650465', '30967853', '541136693', '29534204', '71361252', '53398275', '1045343519471063040', '6173382', '2472741312', '823116366190354432', '106786514', '91404349', '943827149290639360', '20937304', '955599008', '4042462396', '32374740', '187962487', '570038380', '48548106', '57190437', '826410025606402048', '1026754771087110144', '1027290057454039042', '1024731179658997763', '580016954', '115917954', '90404667', '125043745', '191337335', '406218003', '880102829867888641', '4631863647', '18238000', '234818948', '14390525', '2606773789', '821652589498564609', '1289473711', '88095056', '145812829', '31537951', '59870857', '2911497021', '2315608478', '824627061478322176', '144658895', '786180288900542464', '811939304884867072', '932656049122787328', '750626225887084544', '2196348115', '52511000', '24437704', '1281526188', '918045103616331776', '154488298', '35341530', '20982910', '41572443', '111552374', '2575124365', '216298242', '115660120', '3001896730', '3662690534', '180298000', '1354488800', '159071576', '21097510', '929211084', '3385760055', '584005829', '794229444848353280', '107052130', '220139885', '735511049403797504', '178199066', '726525870484115456', '129746032', '335829830', '2969902108', '4816', '15324940', '16036960', '35761106', '768440095791783936', '106682853', '551247481', '14504859', '14159138', '15804774', '15962027', '2838217211', '63873759', '9475182', '191225303', '14188834'])"
      ]
     },
     "execution_count": 20,
     "metadata": {},
     "output_type": "execute_result"
    }
   ],
   "source": [
    "followersList = []\n",
    "followingList = []\n",
    "for obj in json1:\n",
    "    followersList.append(obj['follower']['accountId'])\n",
    "for obj in json2:\n",
    "    followingList.append(obj['following']['accountId'])\n",
    "followers = Followers(followersList)\n",
    "following = Following(followingList)\n",
    "following\n",
    "# print(followers)\n",
    "# print(followingList)"
   ]
  },
  {
   "cell_type": "code",
   "execution_count": 21,
   "id": "ce0c5bc9",
   "metadata": {},
   "outputs": [],
   "source": [
    "tpath2 = '/Users/clairefarrell/College/TCD/DISS/Twitter/lists-member.js'\n",
    "with open(tpath2, 'r') as f:\n",
    "    tjson_str4 = f.read()\n",
    "tjson_str4 = tjson_str4.replace(\"window.YTD.lists_member.part0 = \", \"\")\n",
    "json4 = json.loads(tjson_str4)"
   ]
  },
  {
   "cell_type": "code",
   "execution_count": 22,
   "id": "67b906f2",
   "metadata": {},
   "outputs": [
    {
     "data": {
      "text/plain": [
       "Interests(interests=['interesting-people1', 'diversity-culture', 'iswc', 'semanticweb', 'cs', 'python-list', 'evernote', 'privacy', 'linked-data'])"
      ]
     },
     "execution_count": 22,
     "metadata": {},
     "output_type": "execute_result"
    }
   ],
   "source": [
    "interestsList = []\n",
    "for obj in json4:\n",
    "    interestsList.append(obj['userListInfo']['url'].rsplit('/', 1)[-1])\n",
    "interests = Interests(interestsList)\n",
    "interests"
   ]
  },
  {
   "cell_type": "code",
   "execution_count": 23,
   "id": "f7a813c5",
   "metadata": {},
   "outputs": [],
   "source": [
    "tpath3 = '/Users/clairefarrell/College/TCD/DISS/Twitter/profile.js'\n",
    "with open(tpath3, 'r') as f:\n",
    "    tjson_str5 = f.read()\n",
    "tjson_str5 = tjson_str5.replace(\"window.YTD.profile.part0 = \", \"\")\n",
    "json5 = json.loads(tjson_str5)[0]"
   ]
  },
  {
   "cell_type": "code",
   "execution_count": 24,
   "id": "5cbbb38c",
   "metadata": {},
   "outputs": [],
   "source": [
    "tpath4 = '/Users/clairefarrell/College/TCD/DISS/Twitter/account.js'\n",
    "with open(tpath4, 'r') as f:\n",
    "    tjson_str6 = f.read()\n",
    "tjson_str6 = tjson_str6.replace(\"window.YTD.account.part0 = \", \"\")\n",
    "json6 = json.loads(tjson_str6)[0]"
   ]
  },
  {
   "cell_type": "code",
   "execution_count": 25,
   "id": "ce653d04",
   "metadata": {},
   "outputs": [
    {
     "data": {
      "text/plain": [
       "{'account': {'email': 'me@harshp.com',\n",
       "  'createdVia': 'web',\n",
       "  'username': 'coolharsh55',\n",
       "  'accountId': '54597193',\n",
       "  'createdAt': '2009-07-07T16:29:46.000Z',\n",
       "  'accountDisplayName': 'Harshvardhan J. Pandit'}}"
      ]
     },
     "execution_count": 25,
     "metadata": {},
     "output_type": "execute_result"
    }
   ],
   "source": [
    "json6"
   ]
  },
  {
   "cell_type": "code",
   "execution_count": 26,
   "id": "d5a0ce95",
   "metadata": {},
   "outputs": [
    {
     "data": {
      "text/plain": [
       "Profile(bio='Researcher @ ADAPT Centre, Trinity College Dublin. PhD in GDPR 🔄 Privacy 🔄 Sem-Web. Avid reader. Aspiring polymath. Inner voice: @bohketto', website='https://t.co/6aHq0NUWnw', location='Dublin City, Ireland', email='me@harshp.com', created_via='web', username='coolharsh55', account_id='54597193', created_at='2009-07-07T16:29:46.000Z', account_display_name='Harshvardhan J. Pandit', phone_number=None, followers=Followers(followers=[]), following=Following(following=[]), interests=Interests(interests=[]))"
      ]
     },
     "execution_count": 26,
     "metadata": {},
     "output_type": "execute_result"
    }
   ],
   "source": [
    "bio = json5['profile']['description']['bio']\n",
    "website = json5['profile']['description']['website']\n",
    "location = json5['profile']['description']['location']\n",
    "email = json6['account']['email']\n",
    "created_via = json6['account']['createdVia']\n",
    "username = json6['account']['username']\n",
    "account_id = json6['account']['accountId']\n",
    "created_at = json6['account']['createdAt']\n",
    "account_display_name = json6['account']['accountDisplayName']\n",
    "\n",
    "profile = Profile(bio, website, location, email, created_via, username, account_id, created_at, account_display_name)\n",
    "profile"
   ]
  },
  {
   "cell_type": "markdown",
   "id": "73b4af4a",
   "metadata": {},
   "source": [
    "## 2. Generalised Schema Approach"
   ]
  },
  {
   "cell_type": "markdown",
   "id": "83f1250c",
   "metadata": {},
   "source": [
    "The Schema Adapter is initialised below to demonstrate the various verticals involved and captured in the data transformation process."
   ]
  },
  {
   "cell_type": "code",
   "execution_count": 27,
   "id": "aa24753d",
   "metadata": {
    "scrolled": true
   },
   "outputs": [
    {
     "data": {
      "text/plain": [
       "{'content': Content(text=TextualData(text=None, urls=None, hashtags=None, people=None), media=MediaData(url=None, id_str=None, caption=None, types=None), location=LocationData(name=None, address=None, url=None, coordinates=(0, 0))),\n",
       " 'profile': Profile(name=None, phone_number=None, emails=None, date_of_birth=None, gender=None, biography=None, language=None, location=LocationData(name=None, address=None, url=None, coordinates=(0, 0)), education=[], profession=[], interests=[]),\n",
       " 'relationships': Relationships(relations=[]),\n",
       " 'interests': Interests(interests=[]),\n",
       " 'timestamp': None}"
      ]
     },
     "execution_count": 27,
     "metadata": {},
     "output_type": "execute_result"
    }
   ],
   "source": [
    "from schema_adapter import Data, TextualData, MediaData, LocationData, Profile, Relationships, Interests\n",
    "\n",
    "empty_schema_adapter = Data()\n",
    "vars(empty_schema_adapter)"
   ]
  },
  {
   "cell_type": "markdown",
   "id": "259328e5",
   "metadata": {},
   "source": [
    "Empty instances of each class is initialised below for use in the PatternMatching stage."
   ]
  },
  {
   "cell_type": "code",
   "execution_count": 28,
   "id": "5752eddd",
   "metadata": {},
   "outputs": [],
   "source": [
    "empty_text = TextualData()\n",
    "empty_media = MediaData()\n",
    "empty_location = LocationData()\n",
    "empty_profile = Profile()\n",
    "empty_relationship = Relationships()\n",
    "empty_interests = Interests()"
   ]
  },
  {
   "cell_type": "markdown",
   "id": "af680d7d",
   "metadata": {},
   "source": [
    "## 3. Matching Techniques\n",
    "### 3.1. String Matching"
   ]
  },
  {
   "cell_type": "markdown",
   "id": "26af9eee",
   "metadata": {},
   "source": [
    "##### Introduction\n",
    "String matching is the direct matching of the attributes based on their variable name. \n",
    "\n",
    "##### Methodology\n",
    "1. Create an  instance of the source data, e.g. initialise an Twitter post class from the dictionary as demonstrated above.\n",
    "2. Collect the annotations of these classes for comparison.\n",
    "3. For every class in the Schema Adapter, create a new instance checking if a attribute exists in the source class instances using string matching and assigning the value accordingly if present.\n",
    "4. Return the Schema Adapter object for analysis."
   ]
  },
  {
   "cell_type": "code",
   "execution_count": 29,
   "id": "e00ff610",
   "metadata": {},
   "outputs": [
    {
     "name": "stdout",
     "output_type": "stream",
     "text": [
      "Data(content=Content(text=TextualData(text=None, urls=None, hashtags=[], people=None), media=MediaData(url=None, id_str=None, caption=None, types=None), location=LocationData(name=None, address=None, url=None, coordinates=(0.0, 0.0))), profile=None, relationships=None, interests=None, timestamp=1602850945)\n"
     ]
    }
   ],
   "source": [
    "from string_match import data as str_data, mediaData, locationData, textData\n",
    "\n",
    "string_twitter = str_data(vars(tweetObjectList[0]))"
   ]
  },
  {
   "cell_type": "code",
   "execution_count": null,
   "id": "9e5559f4",
   "metadata": {},
   "outputs": [],
   "source": []
  },
  {
   "cell_type": "markdown",
   "id": "ec305cf6",
   "metadata": {},
   "source": [
    "### 3.2. Semantic Matching"
   ]
  },
  {
   "cell_type": "markdown",
   "id": "ddeb589e",
   "metadata": {},
   "source": [
    "##### Intoduction\n",
    "Semantic matching allows for words that mean the same thing to be matched together. This research employs the use of thesauri to match the attributes for different classes together. This methodology uses the schema adapter to find concepts from external data sources that are similar to it. \n",
    "\n",
    "i.e. From the Schema Adapter, what similar concepts can be found from the source data, e.g. Twitter archive. \n",
    "\n",
    "##### Methodology\n",
    "1. Create an  instance of the source data, e.g. initialise an Twitter post class from the dictionary as demonstrated above.\n",
    "2. Collect the annotations of these classes for comparison.\n",
    "3. Create a list of synonyms for each attrbibute in the Schema Adapter classes.\n",
    "4. For every class in the Schema Adapter, create a new instance checking if a attribute exists in the source class instances using semantic matching and assigning the value accordingly if present.\n",
    "5. Return the Schema Adapter object for analysis."
   ]
  },
  {
   "cell_type": "code",
   "execution_count": 30,
   "id": "8a5fd7f9",
   "metadata": {},
   "outputs": [
    {
     "name": "stderr",
     "output_type": "stream",
     "text": [
      "[nltk_data] Downloading package wordnet to\n",
      "[nltk_data]     /Users/clairefarrell/nltk_data...\n",
      "[nltk_data]   Package wordnet is already up-to-date!\n"
     ]
    }
   ],
   "source": [
    "from semantic_match import data as sem_data\n",
    "# , mediaData, locationData, textData\n",
    "\n",
    "semantic_twitter = sem_data(vars(tweetObjectList[0]))"
   ]
  },
  {
   "cell_type": "markdown",
   "id": "a233bf0e",
   "metadata": {},
   "source": [
    "### 3.3. Pattern Matching\n",
    "\"Given two entities, if their children in their ontologies are similar, then it is likely the those entities are similar as well.\""
   ]
  },
  {
   "cell_type": "markdown",
   "id": "8bb8a829",
   "metadata": {},
   "source": [
    "##### Introduction\n",
    "Pattern matching involves the previous two matching techniques and combines them to output a matching score. Unlike the previous implementations, the matching is performed on the class as a whole, and not the individual attributes in isolation. \n",
    "\n",
    "##### Methodology\n",
    "1. Empty instances of each class are initialised for the comparison.\n",
    "2. Instances are added to a list of the overarching concept/organisation, i.e. all facebook classes are added to one list.\n",
    "3. Two organisations are compared by _ the lists as parameters to the PatternMatching function. \n",
    "4. The PatternMatching function\n",
    "    - The annotations for each class are collected.\n",
    "    - Iterate through the classes in a nested manner.\n",
    "    - In each iteration identify which class has the larger number of attributes, store this number.\n",
    "    - For each attribute in the classes, create a list of synonyms for the variable name. \n",
    "    - Compare these lists and increase the semantic count score for every match found.\n",
    "    - Similarly, compare the attributes on a string match bases, increasing the string match score for every match found.\n",
    "    - Compute the similarity score for each class in the two lists and store this in a list of dictionaries.\n",
    "        - e.g. [{class1:{class2:0.65, class3:0.3}]\n",
    "            - class1 is more similar to class2 than class3 with a similarity score of 0.65 compared to 0.3."
   ]
  },
  {
   "cell_type": "code",
   "execution_count": null,
   "id": "ff09512c",
   "metadata": {},
   "outputs": [],
   "source": []
  },
  {
   "cell_type": "code",
   "execution_count": 36,
   "id": "5a9d22df",
   "metadata": {},
   "outputs": [
    {
     "name": "stdout",
     "output_type": "stream",
     "text": [
      "[{'TextualData': {'Entities': 0.375, 'Urls': 0.125, 'Main': 0.0, 'UserMentions': 0.0, 'Tweet': 0.0}}, {'MediaData': {'Urls': 0.25, 'Entities': 0.125, 'UserMentions': 0.1, 'Tweet': 0.02631578947368421, 'Main': 0.0}}, {'LocationData': {'Urls': 0.25, 'UserMentions': 0.2, 'Entities': 0.125, 'Tweet': 0.02631578947368421, 'Main': 0.0}}, {'Profile': {'UserMentions': 0.09090909090909091, 'Main': 0.0, 'Urls': 0.0, 'Entities': 0.0, 'Tweet': 0.0}}, {'Relationships': {'Main': 0.0, 'Urls': 0.0, 'UserMentions': 0.0, 'Entities': 0.0, 'Tweet': 0.0}}, {'Interests': {'Main': 0.0, 'Urls': 0.0, 'UserMentions': 0.0, 'Entities': 0.0, 'Tweet': 0.0}}]\n"
     ]
    }
   ],
   "source": [
    "from pattern_match import PatternMatching\n",
    "\n",
    "schema_adapter_ls = [empty_text, empty_media, empty_location, empty_profile, empty_relationship, empty_interests]\n",
    "facebook_post_ls = []\n",
    "tweet_ls = [empty_main, empty_urls, empty_user_mentions, empty_entities, empty_tweet]\n",
    "\n",
    "pattern_twitter = PatternMatching(schema_adapter_ls, tweet_ls)\n",
    "\n",
    "print(PatternMatching(schema_adapter_ls, tweet_ls))"
   ]
  },
  {
   "cell_type": "markdown",
   "id": "0caa3602",
   "metadata": {},
   "source": [
    "##### Observations\n",
    "One particularly interesting observation is that the TextualData object does not have any similarity with the Tweet object. "
   ]
  },
  {
   "cell_type": "markdown",
   "id": "c2cfa279",
   "metadata": {},
   "source": [
    "## 4. Evaluation of Matching techniques\n",
    "\n",
    "In order to understand the effectiveness of the matching techniques, three metrics have been implemented.\n",
    "1. Completeness\n",
    "2. Performance\n",
    "3. Achieves Research Objectives"
   ]
  },
  {
   "cell_type": "markdown",
   "id": "e33a2ee1",
   "metadata": {},
   "source": [
    "### 4.1 Completeness\n",
    "Utilitsing the manual matching technique explored in the manual_matching_notebook as a baseline for what can be successfully mapped between the two schemas, the completeness of the three previously described matching techniques: string matching, semantic matching, and pattern matching. \n",
    "\n",
    "##### Direct Matching\n",
    "- From twitter tweet to facebook post completeness: 52.63%  \n",
    "- From twitter profile to facebook profile completeness: 38.7% \n",
    "- From facebook post to twitter tweet completeness: 19.23% \n",
    "- From facebook profile to twitter profile completeness: 92.31% \n",
    "\n",
    "##### Indirect Matching\n",
    "- From twitter to schema adapter: 78.37% completeness\n",
    "- From facebook to schema adapter: 51.72% completeness"
   ]
  },
  {
   "cell_type": "code",
   "execution_count": 32,
   "id": "fbb55d54",
   "metadata": {},
   "outputs": [],
   "source": [
    "import collections\n",
    "\n",
    "def flatten(d, parent_key='', sep='_'):\n",
    "    items = []\n",
    "    for k, v in d.items():\n",
    "        new_key = parent_key + sep + k if parent_key else k\n",
    "        if isinstance(v, collections.MutableMapping):\n",
    "            items.extend(flatten(v, new_key, sep=sep).items())\n",
    "        else:\n",
    "            items.append((new_key, v))\n",
    "    return dict(items)\n",
    "\n",
    "import json\n",
    "def to_dict(obj):\n",
    "    return json.loads(json.dumps(obj, default=lambda o: o.__dict__))"
   ]
  },
  {
   "cell_type": "code",
   "execution_count": 35,
   "id": "e2ebf670",
   "metadata": {},
   "outputs": [
    {
     "name": "stdout",
     "output_type": "stream",
     "text": [
      "0.375\n"
     ]
    }
   ],
   "source": [
    "# String Matching\n",
    "\n",
    "total = 0\n",
    "count = 0\n",
    "for k,v in flatten(to_dict(string_twitter)).items():\n",
    "    total+=1\n",
    "    if v == None:\n",
    "        count+=1\n",
    "print(1-count/total)"
   ]
  },
  {
   "cell_type": "code",
   "execution_count": 34,
   "id": "3570765d",
   "metadata": {},
   "outputs": [
    {
     "name": "stdout",
     "output_type": "stream",
     "text": [
      "0.25\n"
     ]
    },
    {
     "name": "stderr",
     "output_type": "stream",
     "text": [
      "<ipython-input-32-c7b0680524fd>:7: DeprecationWarning: Using or importing the ABCs from 'collections' instead of from 'collections.abc' is deprecated since Python 3.3, and in 3.10 it will stop working\n",
      "  if isinstance(v, collections.MutableMapping):\n"
     ]
    }
   ],
   "source": [
    "# Semantic Matching\n",
    "\n",
    "total = 0\n",
    "count = 0\n",
    "for k,v in flatten(to_dict(semantic_twitter)).items():\n",
    "    total+=1\n",
    "    if v == None:\n",
    "        count+=1\n",
    "print(1-count/total)"
   ]
  },
  {
   "cell_type": "code",
   "execution_count": 40,
   "id": "a2deab0a",
   "metadata": {},
   "outputs": [
    {
     "name": "stdout",
     "output_type": "stream",
     "text": [
      "1.0\n"
     ]
    }
   ],
   "source": [
    "# Pattern Matching"
   ]
  }
 ],
 "metadata": {
  "kernelspec": {
   "display_name": "Python 3",
   "language": "python",
   "name": "python3"
  },
  "language_info": {
   "codemirror_mode": {
    "name": "ipython",
    "version": 3
   },
   "file_extension": ".py",
   "mimetype": "text/x-python",
   "name": "python",
   "nbconvert_exporter": "python",
   "pygments_lexer": "ipython3",
   "version": "3.9.4"
  }
 },
 "nbformat": 4,
 "nbformat_minor": 5
}
