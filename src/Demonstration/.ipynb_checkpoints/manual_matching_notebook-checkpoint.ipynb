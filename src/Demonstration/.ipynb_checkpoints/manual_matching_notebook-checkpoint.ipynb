{
 "cells": [
  {
   "cell_type": "markdown",
   "id": "ad3249f1",
   "metadata": {},
   "source": [
    "# Manual Matching Notebook for SCHEMA Dissertation\n",
    "\n",
    "The purpose of this notebook is to manually match the schemas between Facebook and Twitter for evaluation purposes. \n",
    "\n",
    "The structure of this notebook is as follows.\n",
    "\n",
    "1. Import and display of classes in both organisations.\n",
    "2. Match the concepts and discuss the reasoning behind it.\n",
    "3. Hypothsise whether the matching will be accurately made by each of the techniques (string, semantic or pattern matching).\n",
    "\n",
    "This process will be repeated for both direct and indirect data transformations. "
   ]
  },
  {
   "cell_type": "code",
   "execution_count": 1,
   "id": "78aebbd0",
   "metadata": {},
   "outputs": [],
   "source": [
    "import collections\n",
    "\n",
    "def flatten(d, parent_key='', sep='_'):\n",
    "    items = []\n",
    "    for k, v in d.items():\n",
    "        new_key = parent_key + sep + k if parent_key else k\n",
    "        if isinstance(v, collections.MutableMapping):\n",
    "            items.extend(flatten(v, new_key, sep=sep).items())\n",
    "        else:\n",
    "            items.append((new_key, v))\n",
    "    return dict(items)"
   ]
  },
  {
   "cell_type": "code",
   "execution_count": 2,
   "id": "8178d70c",
   "metadata": {},
   "outputs": [],
   "source": [
    "import json\n",
    "def to_dict(obj):\n",
    "    return json.loads(json.dumps(obj, default=lambda o: o.__dict__))"
   ]
  },
  {
   "cell_type": "markdown",
   "id": "e6da9f5c",
   "metadata": {},
   "source": [
    "## 1. Import and Display of classes\n",
    "### Twitter"
   ]
  },
  {
   "cell_type": "code",
   "execution_count": 3,
   "id": "9fc7c6fe",
   "metadata": {},
   "outputs": [],
   "source": [
    "from tweet import Tweet, Entities, UserMentions, Urls, Main"
   ]
  },
  {
   "cell_type": "code",
   "execution_count": 4,
   "id": "bd2746fd",
   "metadata": {},
   "outputs": [
    {
     "data": {
      "text/plain": [
       "Tweet(retweeted=None, source=None, favorite_count=None, in_reply_to_status_id=None, id_str=None, in_reply_to_user_id=None, truncated=None, retweet_count=None, id=None, in_reply_to_status_id_str=None, possibly_sensitive=None, created_at=None, favorited=None, full_text=None, lang=None, in_reply_to_screen_name=None, in_reply_to_user_id_str=None, entities=None, display_text_range=[])"
      ]
     },
     "execution_count": 4,
     "metadata": {},
     "output_type": "execute_result"
    }
   ],
   "source": [
    "Tweet()"
   ]
  },
  {
   "cell_type": "code",
   "execution_count": 5,
   "id": "88e17549",
   "metadata": {},
   "outputs": [],
   "source": [
    "from twitter_profile import Profile, Interests, Followers, Following"
   ]
  },
  {
   "cell_type": "code",
   "execution_count": 6,
   "id": "02b91c10",
   "metadata": {},
   "outputs": [
    {
     "data": {
      "text/plain": [
       "Profile(bio=None, website=None, location=None, email=None, created_via=None, username=None, account_id=None, created_at=None, account_display_name=None, phone_number=None, followers=Followers(followers=[]), following=Following(following=[]), interests=Interests(interests=[]))"
      ]
     },
     "execution_count": 6,
     "metadata": {},
     "output_type": "execute_result"
    }
   ],
   "source": [
    "Profile()"
   ]
  },
  {
   "cell_type": "markdown",
   "id": "bee04597",
   "metadata": {},
   "source": [
    "### Facebook"
   ]
  },
  {
   "cell_type": "code",
   "execution_count": 7,
   "id": "db322d4a",
   "metadata": {},
   "outputs": [],
   "source": [
    "from facebook_post import Post, Data, Place, Coordinates, Attachments, ExternalContext, Media, MediaMetadata"
   ]
  },
  {
   "cell_type": "code",
   "execution_count": 8,
   "id": "6828829c",
   "metadata": {},
   "outputs": [
    {
     "data": {
      "text/plain": [
       "Post(title=None, timestamp=None, data=Data(post=None, title=None, update_timestamp=None, timestamp=None, place=Place(name=None, address=None, url=None, coordinates=Coordinates(latitude=None, longitude=None)), external_context=ExternalContext(url=None), media=Media(uri=None, title=None, description=None, creation_timestamp=None, media_metadata=MediaMetadata(photo_metadata=None))), attachments=Attachments(data=[]), tags=[])"
      ]
     },
     "execution_count": 8,
     "metadata": {},
     "output_type": "execute_result"
    }
   ],
   "source": [
    "Post()"
   ]
  },
  {
   "cell_type": "code",
   "execution_count": 9,
   "id": "eb9dcfe8",
   "metadata": {},
   "outputs": [
    {
     "data": {
      "text/plain": [
       "Post(title=None, timestamp=None, data=Data(post=None, title=None, update_timestamp=None, timestamp=None, place=Place(name=None, address=None, url=None, coordinates=Coordinates(latitude=None, longitude=None)), external_context=ExternalContext(url=None), media=Media(uri=None, title=None, description=None, creation_timestamp=None, media_metadata=MediaMetadata(photo_metadata=None))), attachments=Attachments(data=[]), tags=[])"
      ]
     },
     "execution_count": 9,
     "metadata": {},
     "output_type": "execute_result"
    }
   ],
   "source": [
    "Post(title=None, timestamp=None, data=Data(post=None, title=None, update_timestamp=None, timestamp=None, place=Place(name=None, address=None, url=None, coordinates=Coordinates(latitude=None, longitude=None)), external_context=ExternalContext(url=None), media=Media(uri=None, title=None, description=None, creation_timestamp=None, media_metadata=MediaMetadata(photo_metadata=None))), attachments=Attachments(data=[]), tags=[])"
   ]
  },
  {
   "cell_type": "code",
   "execution_count": 10,
   "id": "21d26ba5",
   "metadata": {},
   "outputs": [],
   "source": [
    "from facebook_profile import Profile, Friends, Likes, Groups, Name, Location, RelationshipStatus, Date, Education, Work\n"
   ]
  },
  {
   "cell_type": "code",
   "execution_count": 11,
   "id": "a837282b",
   "metadata": {},
   "outputs": [
    {
     "data": {
      "text/plain": [
       "Profile(profile_id=None, name=Name(full_name=None, first_name=None, middle_name=None, last_name=None), date_of_birth=Date(year=None, month=None, day=None), current_city=Location(current_city=None), relationship_status=RelationshipStatus(anniversary=Date(year=None, month=None, day=None), status=None, partner=None), education_experiences=[], work_experiences=[], gender=None, phone_number=None, registration_timestamp=None, intro_bio=None, website=None, friends=Friends(friends=[]), likes=Likes(activities=[], music=[], movies=[], television=[], other=[], favourite_athletes=[], games=[], clothing=[]), emails=[])"
      ]
     },
     "execution_count": 11,
     "metadata": {},
     "output_type": "execute_result"
    }
   ],
   "source": [
    "Profile()"
   ]
  },
  {
   "cell_type": "code",
   "execution_count": 12,
   "id": "7406d27a",
   "metadata": {},
   "outputs": [
    {
     "data": {
      "text/plain": [
       "Groups(groups=[])"
      ]
     },
     "execution_count": 12,
     "metadata": {},
     "output_type": "execute_result"
    }
   ],
   "source": [
    "Groups()"
   ]
  },
  {
   "cell_type": "markdown",
   "id": "d9b905c2",
   "metadata": {},
   "source": [
    "### Schema Adapter"
   ]
  },
  {
   "cell_type": "code",
   "execution_count": 13,
   "id": "7d0fbdab",
   "metadata": {},
   "outputs": [],
   "source": [
    "from schema_adapter import Data as SchemaData \n",
    "from schema_adapter import TextualData, MediaData, LocationData, Profile, Relationships, Interests"
   ]
  },
  {
   "cell_type": "code",
   "execution_count": 14,
   "id": "9689862f",
   "metadata": {},
   "outputs": [
    {
     "data": {
      "text/plain": [
       "Data(post=None, title=None, update_timestamp=None, timestamp=None, place=Place(name=None, address=None, url=None, coordinates=Coordinates(latitude=None, longitude=None)), external_context=ExternalContext(url=None), media=Media(uri=None, title=None, description=None, creation_timestamp=None, media_metadata=MediaMetadata(photo_metadata=None)))"
      ]
     },
     "execution_count": 14,
     "metadata": {},
     "output_type": "execute_result"
    }
   ],
   "source": [
    "Data()"
   ]
  },
  {
   "cell_type": "markdown",
   "id": "d3b6a51e",
   "metadata": {},
   "source": [
    "## 2. Matching Concepts\n",
    "\n",
    "### Posts\n",
    "A post in Facebook and a Tweet in Twitter is a very similar concept. There are some nuances in concepts that are not shared in the datasets and are highlighted throughout this process, e.g. if a tweet is a retweet it is captured in the archive data whereas it is not captured as a shared post in the Facebook archive data. "
   ]
  },
  {
   "cell_type": "code",
   "execution_count": 15,
   "id": "c7c2ad6c",
   "metadata": {},
   "outputs": [
    {
     "data": {
      "text/plain": [
       "Post(title=None, timestamp=None, data=Data(post=None, title=None, update_timestamp=None, timestamp=None, place=Place(name=None, address=None, url=None, coordinates=Coordinates(latitude=None, longitude=None)), external_context=ExternalContext(url=None), media=Media(uri=None, title=None, description=None, creation_timestamp=None, media_metadata=MediaMetadata(photo_metadata=None))), attachments=Attachments(data=[]), tags=[])"
      ]
     },
     "execution_count": 15,
     "metadata": {},
     "output_type": "execute_result"
    }
   ],
   "source": [
    "Post()"
   ]
  },
  {
   "cell_type": "code",
   "execution_count": 16,
   "id": "c4d05deb",
   "metadata": {},
   "outputs": [
    {
     "data": {
      "text/plain": [
       "Data(post=None, title=None, update_timestamp=None, timestamp=None, place=Place(name=None, address=None, url=None, coordinates=Coordinates(latitude=None, longitude=None)), external_context=ExternalContext(url=None), media=Media(uri=None, title=None, description=None, creation_timestamp=None, media_metadata=MediaMetadata(photo_metadata=None)))"
      ]
     },
     "execution_count": 16,
     "metadata": {},
     "output_type": "execute_result"
    }
   ],
   "source": [
    "Data()"
   ]
  },
  {
   "cell_type": "code",
   "execution_count": 17,
   "id": "243e2ac8",
   "metadata": {},
   "outputs": [
    {
     "data": {
      "text/plain": [
       "Post(title=None, timestamp=None, data=Data(post=None, title=None, update_timestamp=None, timestamp=None, place=Place(name=None, address=None, url=None, coordinates=Coordinates(latitude=None, longitude=None)), external_context=ExternalContext(url=None), media=Media(uri=None, title=None, description=None, creation_timestamp=None, media_metadata=MediaMetadata(photo_metadata=None))), attachments=Attachments(data=[]), tags=[])"
      ]
     },
     "execution_count": 17,
     "metadata": {},
     "output_type": "execute_result"
    }
   ],
   "source": [
    "Post(title=None, timestamp=None, data=Data(post=None, title=None, update_timestamp=None, timestamp=None, place=Place(name=None, address=None, url=None, coordinates=Coordinates(latitude=None, longitude=None)), external_context=ExternalContext(url=None), media=Media(uri=None, title=None, description=None, creation_timestamp=None, media_metadata=MediaMetadata(photo_metadata=None))), attachments=Attachments(data=[]), tags=[])"
   ]
  },
  {
   "cell_type": "code",
   "execution_count": 18,
   "id": "54660992",
   "metadata": {},
   "outputs": [],
   "source": [
    "post = Post(title=\"This is the title of a Facebook post\", \n",
    "     timestamp=1603805068, \n",
    "     data=Data(post=\"Post textual data\", \n",
    "               title=\"Title of the post\", \n",
    "               update_timestamp=1603805068, \n",
    "               timestamp=1603805068, \n",
    "               place=Place(name=\"Trinity\", \n",
    "                           address=\"College Green, Dublin 2\",\n",
    "                           url=\"www.tcd.ie\",\n",
    "                           coordinates=Coordinates(latitude=53.34413938184222, \n",
    "                                                   longitude=-6.254528684659548)), \n",
    "               external_context=ExternalContext(url=\"www.scss.tcd.ie\"), \n",
    "               media=Media(uri=\"https://en.wikipedia.org/wiki/File:Long_Room_Interior,_Trinity_College_Dublin,_Ireland_-_Diliff.jpg\", \n",
    "                           title=\"Long Room\", \n",
    "                           description=\"Interior of Long room\", \n",
    "                           creation_timestamp=1603805068, \n",
    "                           media_metadata=MediaMetadata(photo_metadata=None))), \n",
    "     attachments=Attachments(data=[\"Attachment1\"]), \n",
    "     tags=[\"#tcd\"])"
   ]
  },
  {
   "cell_type": "code",
   "execution_count": 19,
   "id": "48fc156a",
   "metadata": {},
   "outputs": [
    {
     "data": {
      "text/plain": [
       "UserMentions(name=None, screen_name=None, id_str=None, id=None, indices=[])"
      ]
     },
     "execution_count": 19,
     "metadata": {},
     "output_type": "execute_result"
    }
   ],
   "source": [
    "UserMentions()\n"
   ]
  },
  {
   "cell_type": "code",
   "execution_count": 20,
   "id": "6be163bf",
   "metadata": {},
   "outputs": [],
   "source": [
    "fb_to_tweet = Tweet(retweeted = None, \n",
    "                  source = None, \n",
    "                  favorite_count = None, \n",
    "                  in_reply_to_status_id = None, \n",
    "                  id_str = None, \n",
    "                  in_reply_to_user_id = None, \n",
    "                  truncated = None, \n",
    "                  retweet_count = None, \n",
    "                  id = None, \n",
    "                  in_reply_to_status_id_str = None, \n",
    "                  possibly_sensitive = None, \n",
    "                  created_at = post.timestamp, \n",
    "                  favorited = None, \n",
    "                  full_text = post.data.post,\n",
    "                  lang = None,\n",
    "                  in_reply_to_screen_name = None,\n",
    "                  in_reply_to_user_id_str = None,\n",
    "                  entities = Entities(user_mentions = UserMentions(name = None, \n",
    "                                                                screen_name = None,\n",
    "                                                                id_str = None,\n",
    "                                                                id = None,\n",
    "                                                                indices = []), \n",
    "                                    hashtags = post.tags, \n",
    "                                    symbols = [],\n",
    "                                    urls = [post.data.place.url, post.data.media.uri, post.data.place.url, post.data.external_context.url]),\n",
    "                  display_text_range = [])"
   ]
  },
  {
   "cell_type": "code",
   "execution_count": null,
   "id": "d4043eb5",
   "metadata": {},
   "outputs": [],
   "source": []
  },
  {
   "cell_type": "code",
   "execution_count": 21,
   "id": "8e01430c",
   "metadata": {},
   "outputs": [
    {
     "name": "stdout",
     "output_type": "stream",
     "text": [
      "0.2692307692307693\n"
     ]
    },
    {
     "name": "stderr",
     "output_type": "stream",
     "text": [
      "<ipython-input-1-72a859df90ce>:7: DeprecationWarning: Using or importing the ABCs from 'collections' instead of from 'collections.abc' is deprecated since Python 3.3, and in 3.10 it will stop working\n",
      "  if isinstance(v, collections.MutableMapping):\n"
     ]
    }
   ],
   "source": [
    "total = 0\n",
    "count = 0\n",
    "for k,v in flatten(to_dict(fb_to_tweet)).items():\n",
    "    total+=1\n",
    "    if v == None:\n",
    "        count+=1\n",
    "print(1-count/total)"
   ]
  },
  {
   "cell_type": "code",
   "execution_count": 22,
   "id": "124ab609",
   "metadata": {},
   "outputs": [
    {
     "data": {
      "text/plain": [
       "{'retweeted': None,\n",
       " 'source': None,\n",
       " 'favorite_count': None,\n",
       " 'in_reply_to_status_id': None,\n",
       " 'id_str': None,\n",
       " 'in_reply_to_user_id': None,\n",
       " 'truncated': None,\n",
       " 'retweet_count': None,\n",
       " 'id': None,\n",
       " 'in_reply_to_status_id_str': None,\n",
       " 'possibly_sensitive': None,\n",
       " 'created_at': 1603805068,\n",
       " 'favorited': None,\n",
       " 'full_text': 'Post textual data',\n",
       " 'lang': None,\n",
       " 'in_reply_to_screen_name': None,\n",
       " 'in_reply_to_user_id_str': None,\n",
       " 'entities_user_mentions_name': None,\n",
       " 'entities_user_mentions_screen_name': None,\n",
       " 'entities_user_mentions_id_str': None,\n",
       " 'entities_user_mentions_id': None,\n",
       " 'entities_user_mentions_indices': [],\n",
       " 'entities_hashtags': ['#tcd'],\n",
       " 'entities_symbols': [],\n",
       " 'entities_urls': ['www.tcd.ie',\n",
       "  'https://en.wikipedia.org/wiki/File:Long_Room_Interior,_Trinity_College_Dublin,_Ireland_-_Diliff.jpg',\n",
       "  'www.tcd.ie',\n",
       "  'www.scss.tcd.ie'],\n",
       " 'display_text_range': []}"
      ]
     },
     "execution_count": 22,
     "metadata": {},
     "output_type": "execute_result"
    }
   ],
   "source": [
    "flatten(to_dict(fb_to_tweet))"
   ]
  },
  {
   "cell_type": "code",
   "execution_count": 23,
   "id": "2fc0c9a2",
   "metadata": {},
   "outputs": [],
   "source": [
    "tweet = Tweet(retweeted=\"false\", \n",
    "              source=\"Android\",\n",
    "              favorite_count=13,\n",
    "              in_reply_to_status_id=\"false\",\n",
    "              id_str=\"12345\",\n",
    "              in_reply_to_user_id=\"false\",\n",
    "              truncated=\"false\",\n",
    "              retweet_count=0,\n",
    "              id=12345,\n",
    "              in_reply_to_status_id_str=\"false\",\n",
    "              possibly_sensitive=\"false\",\n",
    "              created_at=1603805068,\n",
    "              favorited=\"false\",\n",
    "              full_text=\"@Claire is doing her #dissertation :) www.tcd.ie\",\n",
    "              lang=\"en\",\n",
    "              in_reply_to_screen_name=\"false\",\n",
    "              in_reply_to_user_id_str=\"false\",\n",
    "              entities = Entities(user_mentions = [UserMentions(name = \"@Claire\", \n",
    "                                                                screen_name = \"Claire\",\n",
    "                                                                id_str = \"432\",\n",
    "                                                                id = 432,\n",
    "                                                                indices = [0,6])], \n",
    "                                    hashtags = [\"#dissertation\"], \n",
    "                                    symbols = [\":)\"],\n",
    "                                    urls = [\"www.tcd1.ie\"]),\n",
    "              display_text_range = [])"
   ]
  },
  {
   "cell_type": "code",
   "execution_count": 24,
   "id": "fc03b8bb",
   "metadata": {},
   "outputs": [
    {
     "data": {
      "text/plain": [
       "Tweet(retweeted='false', source='Android', favorite_count=13, in_reply_to_status_id='false', id_str='12345', in_reply_to_user_id='false', truncated='false', retweet_count=0, id=12345, in_reply_to_status_id_str='false', possibly_sensitive='false', created_at=1603805068, favorited='false', full_text='@Claire is doing her #dissertation :) www.tcd.ie', lang='en', in_reply_to_screen_name='false', in_reply_to_user_id_str='false', entities=Entities(user_mentions=[UserMentions(name='@Claire', screen_name='Claire', id_str='432', id=432, indices=[0, 6])], hashtags=['#dissertation'], symbols=[':)'], urls=['www.tcd1.ie']), display_text_range=[])"
      ]
     },
     "execution_count": 24,
     "metadata": {},
     "output_type": "execute_result"
    }
   ],
   "source": [
    "tweet"
   ]
  },
  {
   "cell_type": "code",
   "execution_count": null,
   "id": "3351edf5",
   "metadata": {},
   "outputs": [],
   "source": []
  },
  {
   "cell_type": "code",
   "execution_count": 25,
   "id": "60685e26",
   "metadata": {},
   "outputs": [],
   "source": [
    "tweet_to_fb = Post(None, tweet.created_at, \n",
    "            Data(post = tweet.full_text, \n",
    "                 title=None, \n",
    "                 update_timestamp=tweet.created_at,\n",
    "                 timestamp=tweet.created_at,\n",
    "                 place=Place(name=None, \n",
    "                             address=None, \n",
    "                             url=tweet.entities.urls, \n",
    "                             coordinates=Coordinates(None, None)),\n",
    "                external_context=ExternalContext(url=tweet.entities.urls),\n",
    "                media=Media(uri=tweet.entities.urls, \n",
    "                            title=None,\n",
    "                            description=None, \n",
    "                            creation_timestamp=tweet.created_at, \n",
    "                            media_metadata=None)),\n",
    "                Attachments([None]),\n",
    "           [None])"
   ]
  },
  {
   "cell_type": "code",
   "execution_count": 26,
   "id": "092c4c55",
   "metadata": {},
   "outputs": [
    {
     "data": {
      "text/plain": [
       "Post(title=None, timestamp=1603805068, data=Data(post='@Claire is doing her #dissertation :) www.tcd.ie', title=None, update_timestamp=1603805068, timestamp=1603805068, place=Place(name=None, address=None, url=['www.tcd1.ie'], coordinates=Coordinates(latitude=None, longitude=None)), external_context=ExternalContext(url=['www.tcd1.ie']), media=Media(uri=['www.tcd1.ie'], title=None, description=None, creation_timestamp=1603805068, media_metadata=None)), attachments=Attachments(data=[None]), tags=[None])"
      ]
     },
     "execution_count": 26,
     "metadata": {},
     "output_type": "execute_result"
    }
   ],
   "source": [
    "tweet_to_fb"
   ]
  },
  {
   "cell_type": "code",
   "execution_count": 27,
   "id": "df25907e",
   "metadata": {},
   "outputs": [
    {
     "name": "stdout",
     "output_type": "stream",
     "text": [
      "0.5263157894736843\n"
     ]
    }
   ],
   "source": [
    "total = 0\n",
    "count = 0\n",
    "for k,v in flatten(to_dict(tweet_to_fb)).items():\n",
    "    total+=1\n",
    "    if v == None:\n",
    "        count+=1\n",
    "print(1-count/total)"
   ]
  },
  {
   "cell_type": "code",
   "execution_count": 28,
   "id": "5315247f",
   "metadata": {},
   "outputs": [
    {
     "data": {
      "text/plain": [
       "{'title': None,\n",
       " 'timestamp': 1603805068,\n",
       " 'data_post': '@Claire is doing her #dissertation :) www.tcd.ie',\n",
       " 'data_title': None,\n",
       " 'data_update_timestamp': 1603805068,\n",
       " 'data_timestamp': 1603805068,\n",
       " 'data_place_name': None,\n",
       " 'data_place_address': None,\n",
       " 'data_place_url': ['www.tcd1.ie'],\n",
       " 'data_place_coordinates_latitude': None,\n",
       " 'data_place_coordinates_longitude': None,\n",
       " 'data_external_context_url': ['www.tcd1.ie'],\n",
       " 'data_media_uri': ['www.tcd1.ie'],\n",
       " 'data_media_title': None,\n",
       " 'data_media_description': None,\n",
       " 'data_media_creation_timestamp': 1603805068,\n",
       " 'data_media_media_metadata': None,\n",
       " 'attachments_data': [None],\n",
       " 'tags': [None]}"
      ]
     },
     "execution_count": 28,
     "metadata": {},
     "output_type": "execute_result"
    }
   ],
   "source": [
    "flatten(to_dict(tweet_to_fb))"
   ]
  },
  {
   "cell_type": "code",
   "execution_count": null,
   "id": "cfb372be",
   "metadata": {},
   "outputs": [],
   "source": []
  },
  {
   "cell_type": "markdown",
   "id": "91dc2f28",
   "metadata": {},
   "source": [
    "### User Profile"
   ]
  },
  {
   "cell_type": "code",
   "execution_count": 29,
   "id": "18ff7c2f",
   "metadata": {},
   "outputs": [],
   "source": [
    "from facebook_profile import Date, Education, Friends, Profile, Groups, Likes\n",
    "from facebook_profile import Profile as f_Profile"
   ]
  },
  {
   "cell_type": "code",
   "execution_count": 30,
   "id": "353caeca",
   "metadata": {},
   "outputs": [
    {
     "data": {
      "text/plain": [
       "Profile(profile_id=None, name=Name(full_name=None, first_name=None, middle_name=None, last_name=None), date_of_birth=Date(year=None, month=None, day=None), current_city=Location(current_city=None), relationship_status=RelationshipStatus(anniversary=Date(year=None, month=None, day=None), status=None, partner=None), education_experiences=[], work_experiences=[], gender=None, phone_number=None, registration_timestamp=None, intro_bio=None, website=None, friends=Friends(friends=[]), likes=Likes(activities=[], music=[], movies=[], television=[], other=[], favourite_athletes=[], games=[], clothing=[]), emails=[])"
      ]
     },
     "execution_count": 30,
     "metadata": {},
     "output_type": "execute_result"
    }
   ],
   "source": [
    "f_Profile()"
   ]
  },
  {
   "cell_type": "code",
   "execution_count": 31,
   "id": "8d924475",
   "metadata": {},
   "outputs": [],
   "source": [
    "fb_profile = f_Profile(profile_id = \"claire.farrell.1610\",\n",
    "    name=Name(full_name='Claire Farrell', \n",
    "                  first_name='Claire', \n",
    "                  middle_name='', \n",
    "                                 \n",
    "                  last_name='Farrell'), \n",
    "        date_of_birth=Date(year=1998, \n",
    "                           month=6, \n",
    "                           day=13), \n",
    "        current_city=Location(current_city='Dublin, Ireland'), \n",
    "        relationship_status=RelationshipStatus(anniversary=Date(year=2016, \n",
    "                                                                month=12, \n",
    "                                                                day=16), \n",
    "                                               status='In a relationship', \n",
    "                                               partner='A D'), \n",
    "        education_experiences=[Education(name='Technological University Dublin', \n",
    "                                         graduated=False, \n",
    "                                         school_type='University', \n",
    "                                         start_timestamp=1472713200, \n",
    "                                         timestamp=1471872580, \n",
    "                                         concentrations=['Business Analytics']), \n",
    "                               Education(name='Scoil Iosa', \n",
    "                                         graduated=True, \n",
    "                                         school_type='High School', \n",
    "                                         start_timestamp=1316812400, \n",
    "                                         timestamp=1316812400, \n",
    "                                         concentrations=[])], \n",
    "        work_experiences=[], \n",
    "        gender='FEMALE', \n",
    "        phone_number='+35387111111', \n",
    "        registration_timestamp=1604587343,\n",
    "        intro_bio = \"I am Claire, I am writing a dissertation\",\n",
    "        website = \"www.tcdf.ie\",\n",
    "        friends=Friends(friends=['Jane Smith', \n",
    "                                 'John Smith', \n",
    "                                 'Joe Blogs']), \n",
    "        likes=Likes(activities=['Christmas'], \n",
    "                    music=['Today FM', 'Melanie Martinez', 'DIE ANTWOORD', 'Superhumanoids', 'Hozier'], \n",
    "                    movies=['Mattress Men - The Movie', 'Taken 3 Ireland', 'Dory', 'The Hunger Games'], \n",
    "                    television=['Love/Hate Series 5', 'Game Of Thrones UK', \"Mrs Brown's Boys\"], \n",
    "                    other=['GoMoIreland', 'Pop Up Gaeltacht La Jolla agus Contae San Diego', 'TES - Trinity Entrepreneurial', 'The Phil'], \n",
    "                    favourite_athletes=['Tom Daley'], \n",
    "                    games=['KODE 4 ALL'], \n",
    "                    clothing=['My Cotton Drawer', 'Happy Socks', 'Penneys']), \n",
    "        emails=['cfarrellc@gmail.com'])\n",
    "\n",
    "\n",
    "\n",
    "\n",
    "\n"
   ]
  },
  {
   "cell_type": "code",
   "execution_count": 32,
   "id": "6b5f20a8",
   "metadata": {},
   "outputs": [],
   "source": [
    "from twitter_profile import Profile as t_Profile\n",
    "from twitter_profile import Interests, Followers, Following"
   ]
  },
  {
   "cell_type": "code",
   "execution_count": 33,
   "id": "ed0abd79",
   "metadata": {},
   "outputs": [],
   "source": [
    "twitter_profile = t_Profile(bio='I like it here', \n",
    "                            website='www.tcd.ie', \n",
    "                            location='Dublin City, Ireland', \n",
    "                            email='claire@tcd.com', \n",
    "                            created_via='web', \n",
    "                            username='cfSchema', \n",
    "                            account_id='123123', \n",
    "                            created_at='2020-11-04T11:59:98.000Z', \n",
    "                            account_display_name=\"Claire's Dissertation\", \n",
    "                            phone_number=\"0871111111\",\n",
    "                            followers = Followers(followers=['4631863647', '20275809', '2313826940']),\n",
    "                            following = Following(following=['1912395307', '1243239258007183360', '902732309442514946']),\n",
    "                            interests = Interests(interests=['data-engineering', 'trinity', 'cars']))"
   ]
  },
  {
   "cell_type": "code",
   "execution_count": 34,
   "id": "0e9b22a1",
   "metadata": {},
   "outputs": [],
   "source": [
    "t_profile_to_fb_profile = f_Profile(profile_id=twitter_profile.username,\n",
    "                                    name=Name(full_name=twitter_profile.account_display_name, \n",
    "                                              first_name=None, \n",
    "                                              middle_name=None, \n",
    "                                              last_name=None), \n",
    "                                    date_of_birth=Date(year=None, \n",
    "                                                       month=None, \n",
    "                                                       day=None), \n",
    "                                    current_city=Location(current_city=twitter_profile.location), \n",
    "                                    relationship_status=RelationshipStatus(anniversary=Date(year=None, \n",
    "                                                                                            month=None, \n",
    "                                                                                            day=None), \n",
    "                                                                           status=None, \n",
    "                                                                           partner=None), \n",
    "                                    education_experiences=[None], \n",
    "                                    work_experiences=[None], \n",
    "                                    gender=None, \n",
    "                                    phone_number=twitter_profile.phone_number, \n",
    "                                    registration_timestamp=twitter_profile.created_at,\n",
    "                                    intro_bio = twitter_profile.bio,\n",
    "                                    website = twitter_profile.website,\n",
    "                                    friends=Friends(friends=twitter_profile.followers.followers + twitter_profile.following.following), \n",
    "                                    likes=Likes(activities=None, \n",
    "                                                music=None, \n",
    "                                                movies=None, \n",
    "                                                television=None, \n",
    "                                                other=twitter_profile.interests, \n",
    "                                                favourite_athletes=None, \n",
    "                                                games=None, \n",
    "                                                clothing=None), \n",
    "                                    emails=twitter_profile.email)\n"
   ]
  },
  {
   "cell_type": "code",
   "execution_count": 35,
   "id": "fffba9e5",
   "metadata": {},
   "outputs": [
    {
     "data": {
      "text/plain": [
       "Profile(profile_id='cfSchema', name=Name(full_name=\"Claire's Dissertation\", first_name=None, middle_name=None, last_name=None), date_of_birth=Date(year=None, month=None, day=None), current_city=Location(current_city='Dublin City, Ireland'), relationship_status=RelationshipStatus(anniversary=Date(year=None, month=None, day=None), status=None, partner=None), education_experiences=[None], work_experiences=[None], gender=None, phone_number='0871111111', registration_timestamp='2020-11-04T11:59:98.000Z', intro_bio='I like it here', website='www.tcd.ie', friends=Friends(friends=['4631863647', '20275809', '2313826940', '1912395307', '1243239258007183360', '902732309442514946']), likes=Likes(activities=None, music=None, movies=None, television=None, other=Interests(interests=['data-engineering', 'trinity', 'cars']), favourite_athletes=None, games=None, clothing=None), emails='claire@tcd.com')"
      ]
     },
     "execution_count": 35,
     "metadata": {},
     "output_type": "execute_result"
    }
   ],
   "source": [
    "t_profile_to_fb_profile"
   ]
  },
  {
   "cell_type": "code",
   "execution_count": 36,
   "id": "59db44ad",
   "metadata": {},
   "outputs": [],
   "source": [
    "fb_profile_to_t_profile = t_Profile(bio=fb_profile.intro_bio, \n",
    "                                    website=fb_profile.website, \n",
    "                                    location=fb_profile.current_city.current_city, \n",
    "                                    email=fb_profile.emails, \n",
    "                                    created_via=None, \n",
    "                                    username=fb_profile.name.full_name, \n",
    "                                    account_id=fb_profile.profile_id, \n",
    "                                    created_at=fb_profile.registration_timestamp, \n",
    "                                    account_display_name=fb_profile.name.full_name, \n",
    "                                    phone_number=fb_profile.phone_number,\n",
    "                                    followers = Followers(followers=fb_profile.friends.friends),\n",
    "                                    following = Following(following=fb_profile.friends.friends),\n",
    "                                    interests = Interests(fb_profile.likes.activities +\n",
    "                                                         fb_profile.likes.favourite_athletes +\n",
    "                                                         fb_profile.likes.other + \n",
    "                                                         fb_profile.likes.clothing +\n",
    "                                                         fb_profile.likes.games +\n",
    "                                                         fb_profile.likes.music + \n",
    "                                                         fb_profile.likes.movies + \n",
    "                                                         fb_profile.likes.television))"
   ]
  },
  {
   "cell_type": "code",
   "execution_count": 37,
   "id": "5b15619e",
   "metadata": {},
   "outputs": [
    {
     "data": {
      "text/plain": [
       "Profile(bio='I am Claire, I am writing a dissertation', website='www.tcdf.ie', location='Dublin, Ireland', email=['cfarrellc@gmail.com'], created_via=None, username='Claire Farrell', account_id='claire.farrell.1610', created_at=1604587343, account_display_name='Claire Farrell', phone_number='+35387111111', followers=Followers(followers=['Jane Smith', 'John Smith', 'Joe Blogs']), following=Following(following=['Jane Smith', 'John Smith', 'Joe Blogs']), interests=Interests(interests=['Christmas', 'Tom Daley', 'GoMoIreland', 'Pop Up Gaeltacht La Jolla agus Contae San Diego', 'TES - Trinity Entrepreneurial', 'The Phil', 'My Cotton Drawer', 'Happy Socks', 'Penneys', 'KODE 4 ALL', 'Today FM', 'Melanie Martinez', 'DIE ANTWOORD', 'Superhumanoids', 'Hozier', 'Mattress Men - The Movie', 'Taken 3 Ireland', 'Dory', 'The Hunger Games', 'Love/Hate Series 5', 'Game Of Thrones UK', \"Mrs Brown's Boys\"]))"
      ]
     },
     "execution_count": 37,
     "metadata": {},
     "output_type": "execute_result"
    }
   ],
   "source": [
    "fb_profile_to_t_profile"
   ]
  },
  {
   "cell_type": "code",
   "execution_count": 38,
   "id": "2cabee0d",
   "metadata": {},
   "outputs": [
    {
     "name": "stdout",
     "output_type": "stream",
     "text": [
      "0.9230769230769231\n"
     ]
    }
   ],
   "source": [
    "total = 0\n",
    "count = 0\n",
    "for k,v in flatten(to_dict(fb_profile_to_t_profile)).items():\n",
    "    total+=1\n",
    "    if v == None:\n",
    "        count+=1\n",
    "print(1-count/total)"
   ]
  },
  {
   "cell_type": "code",
   "execution_count": 39,
   "id": "14332275",
   "metadata": {},
   "outputs": [
    {
     "name": "stdout",
     "output_type": "stream",
     "text": [
      "0.3870967741935484\n"
     ]
    }
   ],
   "source": [
    "total = 0\n",
    "count = 0\n",
    "for k,v in flatten(to_dict(t_profile_to_fb_profile)).items():\n",
    "    total+=1\n",
    "    if v == None:\n",
    "        count+=1\n",
    "print(1-count/total)"
   ]
  },
  {
   "cell_type": "code",
   "execution_count": null,
   "id": "a9ccd3e0",
   "metadata": {},
   "outputs": [],
   "source": []
  },
  {
   "cell_type": "markdown",
   "id": "22c22e85",
   "metadata": {},
   "source": [
    "### Schema Adapter Influence"
   ]
  },
  {
   "cell_type": "code",
   "execution_count": 45,
   "id": "c0af14dc",
   "metadata": {},
   "outputs": [],
   "source": [
    "from schema_adapter import Data, TextualData, MediaData, LocationData, Profile, Relationships, Interests, Content\n"
   ]
  },
  {
   "cell_type": "code",
   "execution_count": 41,
   "id": "7de8f5db",
   "metadata": {},
   "outputs": [
    {
     "data": {
      "text/plain": [
       "Data(content=Content(text=TextualData(text=None, urls=None, hashtags=None, people=None), media=MediaData(url=None, id_str=None, caption=None, types=None, indices=[]), location=LocationData(name=None, address=None, url=None, coordinates=(0, 0))), profile=Profile(name=None, phone_number=None, emails=None, date_of_birth=None, gender=None, biography=None, language=None, location=LocationData(name=None, address=None, url=None, coordinates=(0, 0)), education=[], profession=[], interests=[]), relationships=Relationships(relations=[]), interests=Interests(interests=[]), timestamp=None)"
      ]
     },
     "execution_count": 41,
     "metadata": {},
     "output_type": "execute_result"
    }
   ],
   "source": [
    "Data()"
   ]
  },
  {
   "cell_type": "code",
   "execution_count": 42,
   "id": "1fbef497",
   "metadata": {},
   "outputs": [
    {
     "data": {
      "text/plain": [
       "Profile(profile_id='claire.farrell.1610', name=Name(full_name='Claire Farrell', first_name='Claire', middle_name='', last_name='Farrell'), date_of_birth=Date(year=1998, month=6, day=13), current_city=Location(current_city='Dublin, Ireland'), relationship_status=RelationshipStatus(anniversary=Date(year=2016, month=12, day=16), status='In a relationship', partner='A D'), education_experiences=[Education(name='Technological University Dublin', graduated=False, school_type='University', start_timestamp=1472713200, timestamp=1471872580, concentrations=['Business Analytics']), Education(name='Scoil Iosa', graduated=True, school_type='High School', start_timestamp=1316812400, timestamp=1316812400, concentrations=[])], work_experiences=[], gender='FEMALE', phone_number='+35387111111', registration_timestamp=1604587343, intro_bio='I am Claire, I am writing a dissertation', website='www.tcdf.ie', friends=Friends(friends=['Jane Smith', 'John Smith', 'Joe Blogs']), likes=Likes(activities=['Christmas'], music=['Today FM', 'Melanie Martinez', 'DIE ANTWOORD', 'Superhumanoids', 'Hozier'], movies=['Mattress Men - The Movie', 'Taken 3 Ireland', 'Dory', 'The Hunger Games'], television=['Love/Hate Series 5', 'Game Of Thrones UK', \"Mrs Brown's Boys\"], other=['GoMoIreland', 'Pop Up Gaeltacht La Jolla agus Contae San Diego', 'TES - Trinity Entrepreneurial', 'The Phil'], favourite_athletes=['Tom Daley'], games=['KODE 4 ALL'], clothing=['My Cotton Drawer', 'Happy Socks', 'Penneys']), emails=['cfarrellc@gmail.com'])"
      ]
     },
     "execution_count": 42,
     "metadata": {},
     "output_type": "execute_result"
    }
   ],
   "source": [
    "fb_profile"
   ]
  },
  {
   "cell_type": "code",
   "execution_count": 43,
   "id": "1a6049bd",
   "metadata": {},
   "outputs": [
    {
     "data": {
      "text/plain": [
       "Post(title='This is the title of a Facebook post', timestamp=1603805068, data=Data(post='Post textual data', title='Title of the post', update_timestamp=1603805068, timestamp=1603805068, place=Place(name='Trinity', address='College Green, Dublin 2', url='www.tcd.ie', coordinates=Coordinates(latitude=53.34413938184222, longitude=-6.254528684659548)), external_context=ExternalContext(url='www.scss.tcd.ie'), media=Media(uri='https://en.wikipedia.org/wiki/File:Long_Room_Interior,_Trinity_College_Dublin,_Ireland_-_Diliff.jpg', title='Long Room', description='Interior of Long room', creation_timestamp=1603805068, media_metadata=MediaMetadata(photo_metadata=None))), attachments=Attachments(data=['Attachment1']), tags=['#tcd'])"
      ]
     },
     "execution_count": 43,
     "metadata": {},
     "output_type": "execute_result"
    }
   ],
   "source": [
    "post"
   ]
  },
  {
   "cell_type": "code",
   "execution_count": 59,
   "id": "25d485f3",
   "metadata": {},
   "outputs": [],
   "source": [
    "fb_to_schema_adapter = Data(content = Content(text=TextualData(text=post.data.post, \n",
    "                                             urls=None, \n",
    "                                             hashtags=post.tags, \n",
    "                                             people=None), \n",
    "                            media=MediaData(url=post.data.media.uri,\n",
    "                                            caption = post.data.media.description,\n",
    "                                            id_str=None,\n",
    "                                            types=None), \n",
    "                            location=LocationData(name=post.data.place.name, \n",
    "                                                  address=post.data.place.address, \n",
    "                                                  url=post.data.place.url, \n",
    "                                                  coordinates=(post.data.place.coordinates.latitude, post.data.place.coordinates.longitude))), \n",
    "                            profile=Profile(name=fb_profile.name.full_name, \n",
    "                                            phone_number=fb_profile.phone_number, \n",
    "                                            emails=fb_profile.emails, \n",
    "                                            date_of_birth=str(fb_profile.date_of_birth.day) + '/' + str(fb_profile.date_of_birth.month) + '/' + str(fb_profile.date_of_birth.year), \n",
    "                                            gender=fb_profile.gender, \n",
    "                                            biography=fb_profile.intro_bio, \n",
    "                                            language=None, \n",
    "                                            location=LocationData(name=fb_profile.current_city, \n",
    "                                                                  address=None, \n",
    "                                                                  url=None, \n",
    "                                                                  coordinates=(0, 0)), \n",
    "                                            education=fb_profile.education_experiences, \n",
    "                                            profession=fb_profile.work_experiences),\n",
    "                            relationships=Relationships(relations=fb_profile.friends), \n",
    "                            interests=Interests(interests=fb_profile.likes), \n",
    "                            timestamp=None)"
   ]
  },
  {
   "cell_type": "code",
   "execution_count": 60,
   "id": "6a02ebb3",
   "metadata": {},
   "outputs": [
    {
     "data": {
      "text/plain": [
       "Data(content=Content(text=TextualData(text='Post textual data', urls=None, hashtags=['#tcd'], people=None), media=MediaData(url='https://en.wikipedia.org/wiki/File:Long_Room_Interior,_Trinity_College_Dublin,_Ireland_-_Diliff.jpg', id_str=None, caption='Interior of Long room', types=None, indices=[]), location=LocationData(name='Trinity', address='College Green, Dublin 2', url='www.tcd.ie', coordinates=(53.34413938184222, -6.254528684659548))), profile=Profile(name='Claire Farrell', phone_number='+35387111111', emails=['cfarrellc@gmail.com'], date_of_birth='13/6/1998', gender='FEMALE', biography='I am Claire, I am writing a dissertation', language=None, location=LocationData(name=Location(current_city='Dublin, Ireland'), address=None, url=None, coordinates=(0, 0)), education=[Education(name='Technological University Dublin', graduated=False, school_type='University', start_timestamp=1472713200, timestamp=1471872580, concentrations=['Business Analytics']), Education(name='Scoil Iosa', graduated=True, school_type='High School', start_timestamp=1316812400, timestamp=1316812400, concentrations=[])], profession=[], interests=[]), relationships=Relationships(relations=Friends(friends=['Jane Smith', 'John Smith', 'Joe Blogs'])), interests=Interests(interests=Likes(activities=['Christmas'], music=['Today FM', 'Melanie Martinez', 'DIE ANTWOORD', 'Superhumanoids', 'Hozier'], movies=['Mattress Men - The Movie', 'Taken 3 Ireland', 'Dory', 'The Hunger Games'], television=['Love/Hate Series 5', 'Game Of Thrones UK', \"Mrs Brown's Boys\"], other=['GoMoIreland', 'Pop Up Gaeltacht La Jolla agus Contae San Diego', 'TES - Trinity Entrepreneurial', 'The Phil'], favourite_athletes=['Tom Daley'], games=['KODE 4 ALL'], clothing=['My Cotton Drawer', 'Happy Socks', 'Penneys'])), timestamp=None)"
      ]
     },
     "execution_count": 60,
     "metadata": {},
     "output_type": "execute_result"
    }
   ],
   "source": [
    "fb_to_schema_adapter"
   ]
  },
  {
   "cell_type": "code",
   "execution_count": 50,
   "id": "6fbd7c7d",
   "metadata": {},
   "outputs": [
    {
     "name": "stdout",
     "output_type": "stream",
     "text": [
      "0.7837837837837838\n"
     ]
    }
   ],
   "source": [
    "total = 0\n",
    "count = 0\n",
    "for k,v in flatten(to_dict(fb_to_schema_adapter)).items():\n",
    "    total+=1\n",
    "    if v == None:\n",
    "        count+=1\n",
    "print(1-count/total)"
   ]
  },
  {
   "cell_type": "code",
   "execution_count": 51,
   "id": "a96e693f",
   "metadata": {},
   "outputs": [
    {
     "data": {
      "text/plain": [
       "Tweet(retweeted='false', source='Android', favorite_count=13, in_reply_to_status_id='false', id_str='12345', in_reply_to_user_id='false', truncated='false', retweet_count=0, id=12345, in_reply_to_status_id_str='false', possibly_sensitive='false', created_at=1603805068, favorited='false', full_text='@Claire is doing her #dissertation :) www.tcd.ie', lang='en', in_reply_to_screen_name='false', in_reply_to_user_id_str='false', entities=Entities(user_mentions=[UserMentions(name='@Claire', screen_name='Claire', id_str='432', id=432, indices=[0, 6])], hashtags=['#dissertation'], symbols=[':)'], urls=['www.tcd1.ie']), display_text_range=[])"
      ]
     },
     "execution_count": 51,
     "metadata": {},
     "output_type": "execute_result"
    }
   ],
   "source": [
    "tweet"
   ]
  },
  {
   "cell_type": "code",
   "execution_count": 52,
   "id": "09f47116",
   "metadata": {},
   "outputs": [
    {
     "data": {
      "text/plain": [
       "Profile(bio='I like it here', website='www.tcd.ie', location='Dublin City, Ireland', email='claire@tcd.com', created_via='web', username='cfSchema', account_id='123123', created_at='2020-11-04T11:59:98.000Z', account_display_name=\"Claire's Dissertation\", phone_number='0871111111', followers=Followers(followers=['4631863647', '20275809', '2313826940']), following=Following(following=['1912395307', '1243239258007183360', '902732309442514946']), interests=Interests(interests=['data-engineering', 'trinity', 'cars']))"
      ]
     },
     "execution_count": 52,
     "metadata": {},
     "output_type": "execute_result"
    }
   ],
   "source": [
    "twitter_profile"
   ]
  },
  {
   "cell_type": "code",
   "execution_count": 63,
   "id": "d167a520",
   "metadata": {},
   "outputs": [
    {
     "ename": "SyntaxError",
     "evalue": "positional argument follows keyword argument (<ipython-input-63-cde3ea28ddd5>, line 12)",
     "output_type": "error",
     "traceback": [
      "\u001b[0;36m  File \u001b[0;32m\"<ipython-input-63-cde3ea28ddd5>\"\u001b[0;36m, line \u001b[0;32m12\u001b[0m\n\u001b[0;31m    coordinates=None, None)),\u001b[0m\n\u001b[0m                          ^\u001b[0m\n\u001b[0;31mSyntaxError\u001b[0m\u001b[0;31m:\u001b[0m positional argument follows keyword argument\n"
     ]
    }
   ],
   "source": [
    "twitter_to_schema_adapter = Data(content = Content(text=TextualData(text=tweet.full_text, \n",
    "                                             urls=tweet.entities.urls, \n",
    "                                             hashtags=tweet.entities.hashtags, \n",
    "                                             people=tweet.entities.user_mentions), \n",
    "                            media=MediaData(url=None,\n",
    "                                            caption = None,\n",
    "                                            id_str=None,\n",
    "                                            types=None), \n",
    "                            location=LocationData(name=None, \n",
    "                                                  address=None, \n",
    "                                                  url=None, \n",
    "                                                  coordinates=0, 0)), \n",
    "                            profile=Profile(name=twitter_profile.account_display_name, \n",
    "                                            phone_number=twitter_profile.phone_number, \n",
    "                                            emails=twitter_profile.email, \n",
    "                                            date_of_birth=None,\n",
    "                                            gender=None, \n",
    "                                            biography=twitter_profile.bio, \n",
    "                                            language=None, \n",
    "                                            location=LocationData(name=twitter_profile.location, \n",
    "                                                                  address=None, \n",
    "                                                                  url=None, \n",
    "                                                                  coordinates=(0, 0)), \n",
    "                                            education=None, \n",
    "                                            profession=None),\n",
    "                            relationships=Relationships(relations=twitter_profile.followers + twitter_profile.following), \n",
    "                            interests=Interests(interests=twitter_profile.interests), \n",
    "                            timestamp=twitter_profile.created_at)\n",
    "                "
   ]
  },
  {
   "cell_type": "code",
   "execution_count": 58,
   "id": "36e1c7ba",
   "metadata": {},
   "outputs": [
    {
     "data": {
      "text/plain": [
       "Data(content=Content(text=TextualData(text='@Claire is doing her #dissertation :) www.tcd.ie', urls=['www.tcd1.ie'], hashtags=['#dissertation'], people=[UserMentions(name='@Claire', screen_name='Claire', id_str='432', id=432, indices=[0, 6])]), media=MediaData(url='https://en.wikipedia.org/wiki/File:Long_Room_Interior,_Trinity_College_Dublin,_Ireland_-_Diliff.jpg', id_str=None, caption='Interior of Long room', types=None, indices=[]), location=LocationData(name='Trinity', address='College Green, Dublin 2', url='www.tcd.ie', coordinates=(53.34413938184222, -6.254528684659548))), profile=Profile(name='Claire Farrell', phone_number='+35387111111', emails=['cfarrellc@gmail.com'], date_of_birth='13/6/1998', gender='FEMALE', biography='I am Claire, I am writing a dissertation', language=None, location=LocationData(name=Location(current_city='Dublin, Ireland'), address=None, url=None, coordinates=(0, 0)), education=[Education(name='Technological University Dublin', graduated=False, school_type='University', start_timestamp=1472713200, timestamp=1471872580, concentrations=['Business Analytics']), Education(name='Scoil Iosa', graduated=True, school_type='High School', start_timestamp=1316812400, timestamp=1316812400, concentrations=[])], profession=[], interests=[]), relationships=Relationships(relations=Friends(friends=['Jane Smith', 'John Smith', 'Joe Blogs'])), interests=Interests(interests=Likes(activities=['Christmas'], music=['Today FM', 'Melanie Martinez', 'DIE ANTWOORD', 'Superhumanoids', 'Hozier'], movies=['Mattress Men - The Movie', 'Taken 3 Ireland', 'Dory', 'The Hunger Games'], television=['Love/Hate Series 5', 'Game Of Thrones UK', \"Mrs Brown's Boys\"], other=['GoMoIreland', 'Pop Up Gaeltacht La Jolla agus Contae San Diego', 'TES - Trinity Entrepreneurial', 'The Phil'], favourite_athletes=['Tom Daley'], games=['KODE 4 ALL'], clothing=['My Cotton Drawer', 'Happy Socks', 'Penneys'])), timestamp=None)"
      ]
     },
     "execution_count": 58,
     "metadata": {},
     "output_type": "execute_result"
    }
   ],
   "source": [
    "twitter_to_schema_adapter"
   ]
  },
  {
   "cell_type": "code",
   "execution_count": 55,
   "id": "65efaaf7",
   "metadata": {},
   "outputs": [
    {
     "name": "stdout",
     "output_type": "stream",
     "text": [
      "0.8108108108108107\n"
     ]
    }
   ],
   "source": [
    "total = 0\n",
    "count = 0\n",
    "for k,v in flatten(to_dict(twitter_to_schema_adapter)).items():\n",
    "    total+=1\n",
    "    if v == None:\n",
    "        count+=1\n",
    "print(1-count/total)"
   ]
  }
 ],
 "metadata": {
  "kernelspec": {
   "display_name": "Python 3",
   "language": "python",
   "name": "python3"
  },
  "language_info": {
   "codemirror_mode": {
    "name": "ipython",
    "version": 3
   },
   "file_extension": ".py",
   "mimetype": "text/x-python",
   "name": "python",
   "nbconvert_exporter": "python",
   "pygments_lexer": "ipython3",
   "version": "3.9.4"
  }
 },
 "nbformat": 4,
 "nbformat_minor": 5
}
